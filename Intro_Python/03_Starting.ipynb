{
 "cells": [
  {
   "attachments": {},
   "cell_type": "markdown",
   "metadata": {},
   "source": [
    "# Começando de verdade\n",
    "\n",
    "Agora vamos começar a aprender a linguagem de verdade (apesar de já termos brincado um pouco). Um dos melhores guias, e gratuito --- o qual vamos utilizar como base --- é a documentação oficial da linguagem, a qual está disponível [aqui](https://docs.python.org/pt-br/3/).\n",
    "\n",
    "Perceba que existem documentação até para a próxima versão, a `3.12`. Porém, vamos utilizar a `3.11`. No canto superior esquerdo você pode selecionar o Português Brasileiro e a versão 3.11.1.\n",
    "\n",
    "Você vai ver no centro da tela um conjunto de links. Vamos utilizar o [Tutorial](https://docs.python.org/pt-br/3/tutorial/index.html).\n",
    "\n",
    "À esquerda você vai encontrar a `Tabela de Conteúdo` para aquele tópido específico (com links), além do próximo tópico e o anterior. No canto superior direito é possível encontrar links similares.\n",
    "\n",
    "Indo ao Tópico 3, vamos brincar de novo com os números!\n",
    "\n",
    "## Números"
   ]
  },
  {
   "cell_type": "code",
   "execution_count": 1,
   "metadata": {},
   "outputs": [
    {
     "data": {
      "text/plain": [
       "2"
      ]
     },
     "execution_count": 1,
     "metadata": {},
     "output_type": "execute_result"
    }
   ],
   "source": [
    "1+1"
   ]
  },
  {
   "cell_type": "code",
   "execution_count": 2,
   "metadata": {},
   "outputs": [
    {
     "data": {
      "text/plain": [
       "2"
      ]
     },
     "execution_count": 2,
     "metadata": {},
     "output_type": "execute_result"
    }
   ],
   "source": [
    "a = 1\n",
    "b = 1\n",
    "\n",
    "a+b"
   ]
  },
  {
   "cell_type": "code",
   "execution_count": 3,
   "metadata": {},
   "outputs": [
    {
     "data": {
      "text/plain": [
       "1000"
      ]
     },
     "execution_count": 3,
     "metadata": {},
     "output_type": "execute_result"
    }
   ],
   "source": [
    "a = 100\n",
    "b = 10\n",
    "\n",
    "# Comentário de 1 linha\n",
    "\n",
    "# Multiplicação\n",
    "a * b"
   ]
  },
  {
   "cell_type": "code",
   "execution_count": 5,
   "metadata": {},
   "outputs": [
    {
     "data": {
      "text/plain": [
       "10.0"
      ]
     },
     "execution_count": 5,
     "metadata": {},
     "output_type": "execute_result"
    }
   ],
   "source": [
    "a = 100; b = 10 # O ponto-e-vírgula força uma 'quebra de linha'\n",
    "\n",
    "# Divisão\n",
    "a/b"
   ]
  },
  {
   "cell_type": "code",
   "execution_count": 6,
   "metadata": {},
   "outputs": [
    {
     "data": {
      "text/plain": [
       "10"
      ]
     },
     "execution_count": 6,
     "metadata": {},
     "output_type": "execute_result"
    }
   ],
   "source": [
    "a = 100; b = 10\n",
    "\n",
    "# Forçando divisão inteira\n",
    "a//b"
   ]
  },
  {
   "cell_type": "code",
   "execution_count": 9,
   "metadata": {},
   "outputs": [
    {
     "data": {
      "text/plain": [
       "2.0"
      ]
     },
     "execution_count": 9,
     "metadata": {},
     "output_type": "execute_result"
    }
   ],
   "source": [
    "# Atribuindo valores diferentes às variáveis\n",
    "a,b = 10, 5\n",
    "\n",
    "a/b"
   ]
  },
  {
   "cell_type": "code",
   "execution_count": 10,
   "metadata": {},
   "outputs": [
    {
     "ename": "TypeError",
     "evalue": "cannot unpack non-iterable int object",
     "output_type": "error",
     "traceback": [
      "\u001b[0;31m---------------------------------------------------------------------------\u001b[0m",
      "\u001b[0;31mTypeError\u001b[0m                                 Traceback (most recent call last)",
      "Cell \u001b[0;32mIn[10], line 2\u001b[0m\n\u001b[1;32m      1\u001b[0m \u001b[39m# Gerando um erro e entendendo o problema\u001b[39;00m\n\u001b[0;32m----> 2\u001b[0m a,b \u001b[39m=\u001b[39m \u001b[39m10\u001b[39m\n\u001b[1;32m      4\u001b[0m a\u001b[39m+\u001b[39mb\n",
      "\u001b[0;31mTypeError\u001b[0m: cannot unpack non-iterable int object"
     ]
    }
   ],
   "source": [
    "# Gerando um erro e entendendo o problema\n",
    "a,b = 10\n",
    "\n",
    "a+b"
   ]
  },
  {
   "cell_type": "code",
   "execution_count": 12,
   "metadata": {},
   "outputs": [
    {
     "data": {
      "text/plain": [
       "6"
      ]
     },
     "execution_count": 12,
     "metadata": {},
     "output_type": "execute_result"
    }
   ],
   "source": [
    "a,b = 20, 7\n",
    "\n",
    "# Resto da divisão\n",
    "a%b"
   ]
  },
  {
   "cell_type": "code",
   "execution_count": 14,
   "metadata": {},
   "outputs": [
    {
     "data": {
      "text/plain": [
       "8"
      ]
     },
     "execution_count": 14,
     "metadata": {},
     "output_type": "execute_result"
    }
   ],
   "source": [
    "a,b = 2, 3\n",
    "\n",
    "# Potenciação\n",
    "a**b"
   ]
  },
  {
   "attachments": {},
   "cell_type": "markdown",
   "metadata": {},
   "source": [
    "### Exercícios\n",
    "\n",
    "1. Crie duas variáveis `a` e `b`, e faça as 4 operações matemáticas básicas.\n",
    "2. Crie duas variáveis `a` e `b`, e calcule a divisão inteira entre os números.\n",
    "3. Crie duas variáveis `a` e `b`, e calcule o resto da divisão.\n",
    "4. Crie três variáveis, sendo `a = 10`, `b = 2.0` e `c = 5`. Faça as operações matemáticas entre `a` e `b` e depois entre `a` e `c`. Você notou alguma diferença? Se sim, qual foi?\n",
    "5. Crie três variáveis `a`, `b` e `c`. Verifique o resultado dos seguintes cáculos: `a + b/c` e `(a+b)/c`. Por que os resultados são diferentes?"
   ]
  },
  {
   "attachments": {},
   "cell_type": "markdown",
   "metadata": {},
   "source": [
    "-----\n",
    "\n",
    "## Strings\n",
    "\n",
    "Uma `String` é um conjunto de caracteres. Em `Python` uma string pode ser expressa com aspas simples `' '` ou aspas duplas `\" \"`. Uma string pode ser também associada a uma variável e, portanto, ser manipulada.\n",
    "\n",
    "Para imprimir algum conteúdo no terminal é preciso utilizar a função `print`. E, caso você queira \"ler\" algum conteúdo do terminal, basta utilizar a função `input`.\n",
    "\n",
    "Vimos, há pouco, que um comentário de 1 linha pode ser escrito ao se utilizar `#` antes. Se você necessitar de um comentário, ou string de várias linhas, basta utilizar aspas simples ou duplas três vezes: `''' ... '''`."
   ]
  },
  {
   "cell_type": "code",
   "execution_count": 16,
   "metadata": {},
   "outputs": [
    {
     "data": {
      "text/plain": [
       "'Minha String'"
      ]
     },
     "execution_count": 16,
     "metadata": {},
     "output_type": "execute_result"
    }
   ],
   "source": [
    "a = 'Minha String'\n",
    "a"
   ]
  },
  {
   "cell_type": "code",
   "execution_count": 17,
   "metadata": {},
   "outputs": [
    {
     "data": {
      "text/plain": [
       "'Minha String'"
      ]
     },
     "execution_count": 17,
     "metadata": {},
     "output_type": "execute_result"
    }
   ],
   "source": [
    "a = \"Minha String\"\n",
    "a"
   ]
  },
  {
   "cell_type": "code",
   "execution_count": 18,
   "metadata": {},
   "outputs": [
    {
     "data": {
      "text/plain": [
       "'Olar Mũdo'"
      ]
     },
     "execution_count": 18,
     "metadata": {},
     "output_type": "execute_result"
    }
   ],
   "source": [
    "\"\"\"\n",
    "Comentário de\n",
    "várias\n",
    "linhas\n",
    "\"\"\"\n",
    "a = 'Olar Mũdo'\n",
    "a"
   ]
  },
  {
   "cell_type": "code",
   "execution_count": 20,
   "metadata": {},
   "outputs": [
    {
     "name": "stdout",
     "output_type": "stream",
     "text": [
      "Olar Mundo\n"
     ]
    }
   ],
   "source": [
    "a = input(\"Escreva alguma coisa: \")\n",
    "\n",
    "print(a)"
   ]
  },
  {
   "attachments": {},
   "cell_type": "markdown",
   "metadata": {},
   "source": [
    "Strings podem ser `concatenadas`, ou seja, ligadas. Em Python isso é feito com o operação de adição `+`. Ao mesmo tempo, você pode repetir uma string ao multiplicá-la por algum valor escalar."
   ]
  },
  {
   "cell_type": "code",
   "execution_count": 21,
   "metadata": {},
   "outputs": [
    {
     "data": {
      "text/plain": [
       "'Estringue'"
      ]
     },
     "execution_count": 21,
     "metadata": {},
     "output_type": "execute_result"
    }
   ],
   "source": [
    "a = \"Es\"\n",
    "b = 'tringue'\n",
    "\n",
    "a+b"
   ]
  },
  {
   "cell_type": "code",
   "execution_count": 23,
   "metadata": {},
   "outputs": [
    {
     "data": {
      "text/plain": [
       "'Ratatata'"
      ]
     },
     "execution_count": 23,
     "metadata": {},
     "output_type": "execute_result"
    }
   ],
   "source": [
    "a = 'Ra'\n",
    "b = 'ta'\n",
    "\n",
    "a + 3*b"
   ]
  },
  {
   "cell_type": "code",
   "execution_count": 24,
   "metadata": {},
   "outputs": [
    {
     "data": {
      "text/plain": [
       "'tatatatataravô'"
      ]
     },
     "execution_count": 24,
     "metadata": {},
     "output_type": "execute_result"
    }
   ],
   "source": [
    "a = 'ta'\n",
    "b = 'ravô'\n",
    "\n",
    "5*a + b"
   ]
  },
  {
   "attachments": {},
   "cell_type": "markdown",
   "metadata": {},
   "source": [
    "Lembrando que uma string é um `conjunto` de caracteres, é possível acessar cada caractere da string."
   ]
  },
  {
   "cell_type": "code",
   "execution_count": 25,
   "metadata": {},
   "outputs": [
    {
     "data": {
      "text/plain": [
       "'O'"
      ]
     },
     "execution_count": 25,
     "metadata": {},
     "output_type": "execute_result"
    }
   ],
   "source": [
    "a = \"Olar Mũdo\"\n",
    "\n",
    "a[0]"
   ]
  },
  {
   "cell_type": "code",
   "execution_count": 26,
   "metadata": {},
   "outputs": [
    {
     "data": {
      "text/plain": [
       "'Olar Mũ'"
      ]
     },
     "execution_count": 26,
     "metadata": {},
     "output_type": "execute_result"
    }
   ],
   "source": [
    "a = \"Olar Mũdo\"\n",
    "\n",
    "# Ou acessar uma faixa de caracteres\n",
    "a[0:7] # 0 incluso e 7 não, ou seja, caracteres do 0 ao 6"
   ]
  },
  {
   "cell_type": "code",
   "execution_count": 28,
   "metadata": {},
   "outputs": [
    {
     "data": {
      "text/plain": [
       "'r Mũdo'"
      ]
     },
     "execution_count": 28,
     "metadata": {},
     "output_type": "execute_result"
    }
   ],
   "source": [
    "a = \"Olar Mũdo\"\n",
    "\n",
    "# De uma posição até ao fim\n",
    "a[3:]"
   ]
  },
  {
   "cell_type": "code",
   "execution_count": 29,
   "metadata": {},
   "outputs": [
    {
     "data": {
      "text/plain": [
       "'o'"
      ]
     },
     "execution_count": 29,
     "metadata": {},
     "output_type": "execute_result"
    }
   ],
   "source": [
    "a = \"Olar Mũdo\"\n",
    "\n",
    "# A última posição\n",
    "a[-1]"
   ]
  },
  {
   "cell_type": "code",
   "execution_count": 30,
   "metadata": {},
   "outputs": [
    {
     "data": {
      "text/plain": [
       "9"
      ]
     },
     "execution_count": 30,
     "metadata": {},
     "output_type": "execute_result"
    }
   ],
   "source": [
    "a = \"Olar Mũdo\"\n",
    "\n",
    "# Comprimento da string\n",
    "len(a)"
   ]
  },
  {
   "cell_type": "code",
   "execution_count": 35,
   "metadata": {},
   "outputs": [
    {
     "ename": "TypeError",
     "evalue": "'str' object does not support item assignment",
     "output_type": "error",
     "traceback": [
      "\u001b[0;31m---------------------------------------------------------------------------\u001b[0m",
      "\u001b[0;31mTypeError\u001b[0m                                 Traceback (most recent call last)",
      "Cell \u001b[0;32mIn[35], line 4\u001b[0m\n\u001b[1;32m      1\u001b[0m \u001b[39m# Strings são imutáveis\u001b[39;00m\n\u001b[1;32m      2\u001b[0m a \u001b[39m=\u001b[39m \u001b[39m\"\u001b[39m\u001b[39mOlar Mũndo\u001b[39m\u001b[39m\"\u001b[39m\n\u001b[0;32m----> 4\u001b[0m a[\u001b[39m0\u001b[39;49m] \u001b[39m=\u001b[39m \u001b[39m\"\u001b[39m\u001b[39mA\u001b[39m\u001b[39m\"\u001b[39m\n\u001b[1;32m      5\u001b[0m a\n",
      "\u001b[0;31mTypeError\u001b[0m: 'str' object does not support item assignment"
     ]
    }
   ],
   "source": [
    "# Strings são imutáveis\n",
    "a = \"Olar Mũndo\"\n",
    "\n",
    "a[0] = \"A\"\n",
    "a"
   ]
  },
  {
   "attachments": {},
   "cell_type": "markdown",
   "metadata": {},
   "source": [
    "### Exercícios\n",
    "\n",
    "1. Escreva um programa que leia o nome de um usuário e então imprima o nome digitado.\n",
    "2. Crie duas variáveis, onde a primeira será um número e a segunda uma string. Imprima a string a quantidade de vezes expressa pelo número.\n",
    "3. Escreva um programa que leia uma frase do usuário e depois imprima os 10 primeiros caracteres.\n",
    "4. Escreva um programa que leia uma frase do usuário e depois imprima os 10 últimos caracteres.\n",
    "5. Escreva um programa que leia uma frase do usuário e depois informe quantos caracteres foram digitados."
   ]
  },
  {
   "attachments": {},
   "cell_type": "markdown",
   "metadata": {},
   "source": [
    "-----\n",
    "\n",
    "## Listas\n",
    "\n",
    "Vimos que uma string é um conjunto de caracteres. Esse conjunto é similar a uma estrutura de dados chamada `lista`. Python possui essa estrutura de dados de forma nativa, o que nos permite criar listas ou conjuntos de outros valores, e manipular as listas."
   ]
  },
  {
   "cell_type": "code",
   "execution_count": 31,
   "metadata": {},
   "outputs": [
    {
     "data": {
      "text/plain": [
       "[2, 4, 6, 8, 10]"
      ]
     },
     "execution_count": 31,
     "metadata": {},
     "output_type": "execute_result"
    }
   ],
   "source": [
    "pares = [2, 4, 6, 8, 10]\n",
    "\n",
    "pares"
   ]
  },
  {
   "cell_type": "code",
   "execution_count": 33,
   "metadata": {},
   "outputs": [
    {
     "data": {
      "text/plain": [
       "2"
      ]
     },
     "execution_count": 33,
     "metadata": {},
     "output_type": "execute_result"
    }
   ],
   "source": [
    "pares = [2, 4, 6, 8, 10]\n",
    "\n",
    "pares[0]"
   ]
  },
  {
   "cell_type": "code",
   "execution_count": 34,
   "metadata": {},
   "outputs": [
    {
     "data": {
      "text/plain": [
       "[8, 10]"
      ]
     },
     "execution_count": 34,
     "metadata": {},
     "output_type": "execute_result"
    }
   ],
   "source": [
    "pares = [2, 4, 6, 8, 10]\n",
    "\n",
    "pares[3:]"
   ]
  },
  {
   "cell_type": "code",
   "execution_count": 36,
   "metadata": {},
   "outputs": [
    {
     "data": {
      "text/plain": [
       "[2, 3, 6, 8, 10]"
      ]
     },
     "execution_count": 36,
     "metadata": {},
     "output_type": "execute_result"
    }
   ],
   "source": [
    "# Listas são mutáveis\n",
    "pares = [2, 4, 6, 8, 10]\n",
    "\n",
    "pares[1] = 3\n",
    "\n",
    "pares"
   ]
  },
  {
   "cell_type": "code",
   "execution_count": 38,
   "metadata": {},
   "outputs": [
    {
     "data": {
      "text/plain": [
       "[2, 4, 6, 8, 10, 1, 3, 5, 7, 9]"
      ]
     },
     "execution_count": 38,
     "metadata": {},
     "output_type": "execute_result"
    }
   ],
   "source": [
    "# Listas são concatenáveis\n",
    "pares = [2, 4, 6, 8, 10]\n",
    "ímpares = [1, 3, 5, 7, 9]\n",
    "\n",
    "pares + ímpares"
   ]
  },
  {
   "cell_type": "code",
   "execution_count": 39,
   "metadata": {},
   "outputs": [
    {
     "data": {
      "text/plain": [
       "['O', 'l', 'a', 'r', '', 'M', 'ũ', 'd', 'o']"
      ]
     },
     "execution_count": 39,
     "metadata": {},
     "output_type": "execute_result"
    }
   ],
   "source": [
    "# Podemos ter uma lista de caracteres\n",
    "a = ['O', 'l', 'a', 'r', '', 'M', 'ũ', 'd', 'o']\n",
    "\n",
    "a"
   ]
  },
  {
   "cell_type": "code",
   "execution_count": 40,
   "metadata": {},
   "outputs": [
    {
     "data": {
      "text/plain": [
       "['A', 'l', 'a', 'r', '', 'M', 'ũ', 'd', 'o']"
      ]
     },
     "execution_count": 40,
     "metadata": {},
     "output_type": "execute_result"
    }
   ],
   "source": [
    "# Mas uma lista de caracteres não é uma string\n",
    "a = ['O', 'l', 'a', 'r', '', 'M', 'ũ', 'd', 'o']\n",
    "\n",
    "a[0] = 'A'\n",
    "\n",
    "a"
   ]
  },
  {
   "cell_type": "code",
   "execution_count": 41,
   "metadata": {},
   "outputs": [
    {
     "data": {
      "text/plain": [
       "9"
      ]
     },
     "execution_count": 41,
     "metadata": {},
     "output_type": "execute_result"
    }
   ],
   "source": [
    "# A função de comprimento pode ser aplicada a listas também\n",
    "a = ['O', 'l', 'a', 'r', '', 'M', 'ũ', 'd', 'o']\n",
    "\n",
    "len(a)"
   ]
  },
  {
   "cell_type": "code",
   "execution_count": 42,
   "metadata": {},
   "outputs": [
    {
     "data": {
      "text/plain": [
       "[1, 2, 3, [4, 5, 6], [7, 8], 9, 10]"
      ]
     },
     "execution_count": 42,
     "metadata": {},
     "output_type": "execute_result"
    }
   ],
   "source": [
    "# Lista de listas\n",
    "a = [1, 2, 3, [4, 5, 6], [7, 8], 9, 10]\n",
    "\n",
    "a"
   ]
  },
  {
   "cell_type": "code",
   "execution_count": 43,
   "metadata": {},
   "outputs": [
    {
     "data": {
      "text/plain": [
       "[4, 5, 6]"
      ]
     },
     "execution_count": 43,
     "metadata": {},
     "output_type": "execute_result"
    }
   ],
   "source": [
    "# Lista de listas\n",
    "a = [1, 2, 3, [4, 5, 6], [7, 8], 9, 10]\n",
    "\n",
    "a[3]"
   ]
  },
  {
   "cell_type": "code",
   "execution_count": 44,
   "metadata": {},
   "outputs": [
    {
     "data": {
      "text/plain": [
       "[1, 2, 3, [4, 5, 6], [7, 8], 9, 10, [11, 12, 13]]"
      ]
     },
     "execution_count": 44,
     "metadata": {},
     "output_type": "execute_result"
    }
   ],
   "source": [
    "# Acrescentando novos elementos à lista\n",
    "a = [1, 2, 3, [4, 5, 6], [7, 8], 9, 10]\n",
    "\n",
    "a.append([11, 12, 13])\n",
    "\n",
    "a"
   ]
  },
  {
   "attachments": {},
   "cell_type": "markdown",
   "metadata": {},
   "source": [
    "### Exercícios\n",
    "\n",
    "1. Crie uma lista de `floats`.\n",
    "2. Crie uma lista de `ints` e concatene com a lista de `floats`.\n",
    "3. Crie uma lista com 3 caracteres e adicione o segundo caractere ao fim da lista.\n",
    "4. Escreva um programa que insira em uma lista 3 elementos digitados pelo usuário.\n",
    "5. Escreva um programa que insira em uma lista 3 elementos digitados pelo usuário, informe a quantidade de elementos e qual foi o úiltimo inserido."
   ]
  }
 ],
 "metadata": {
  "kernelspec": {
   "display_name": "Python 3",
   "language": "python",
   "name": "python3"
  },
  "language_info": {
   "codemirror_mode": {
    "name": "ipython",
    "version": 3
   },
   "file_extension": ".py",
   "mimetype": "text/x-python",
   "name": "python",
   "nbconvert_exporter": "python",
   "pygments_lexer": "ipython3",
   "version": "3.10.6"
  },
  "orig_nbformat": 4,
  "vscode": {
   "interpreter": {
    "hash": "916dbcbb3f70747c44a77c7bcd40155683ae19c65e1c03b4aa3499c5328201f1"
   }
  }
 },
 "nbformat": 4,
 "nbformat_minor": 2
}
