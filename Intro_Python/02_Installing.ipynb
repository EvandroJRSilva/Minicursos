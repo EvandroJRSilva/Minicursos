{
 "cells": [
  {
   "attachments": {},
   "cell_type": "markdown",
   "metadata": {},
   "source": [
    "# Começando pelo começo\n",
    "\n",
    "Se você é usuário de `Linux` o `Python` já deve estar instalado em sua máquina. Para descobrir, basta abrir o terminal (`ctrl+alt+t`) e digitar `python` ou `pyhthon3`. Assim que você pressionar o `enter` e o comando for reconhecido e executado, um `shell` do python ficará disponível para você utilizá-lo.\n",
    "\n",
    "Entretanto, a maioria de vocês é possivelmente usuário de `Windows`. Neste caso, é bem provável que o `Python` não esteja instalado. O que fazer?\n",
    "\n",
    "O primeiro passo é acessar o site oficial da linguagem: [python.org](https://python.org). É no site oficial onde você vai encontrar as versões oficiais, além da documentação e vários guias.\n",
    "\n",
    "Na aba `Downloads` você encontrará todas as versões oficialmente disponíveis, desde `2.0.1` até a mais atual `3.11.1`. Você deverá procurar pela versão que você quer e baixar o instalador para Windows.\n",
    "\n",
    "> Note que é possível ter mais de uma versão do `Python` instalada. Ou seja, é possível que você tenha a versão `3.11` e a `3.10` ao mesmo tempo. Cada versão instalada é independente.\n",
    "\n",
    "Após baixar a versão que você quer, basta executar o instalador (recomendo marcar a opção de já incluir a linguagem no `path`). No `Windows`, além do `interpretador`, serão instalados outros componentes, como um programa `shell` separado que você pode abrir, chamado `IDLE`. Porém, se você quiser ser um pouco mais como um usuário do `Linux`, você pode abrir o `prompt de comando` e digitar `python` ou `pyhthon3`. Se o comando não foi reconhecido, é provável que você não tenha marcado a opção de incluir a linguagem na variável `path`.\n",
    "\n",
    "Essa é uma variável de ambiente do Windows, e ao adicionar nela o caminho do executável da linguagem, seus comandos passam a ser reconhecidos via linha de comando.\n",
    "\n",
    "Vamos brincar um pouco no `shell` do Python."
   ]
  },
  {
   "attachments": {},
   "cell_type": "markdown",
   "metadata": {},
   "source": [
    "-----\n",
    "\n",
    "Depois de brincar um pouco, você pode estar se perguntando: só dá para programar utilizando o shell? Ou ainda: eu preciso ficar abrindo o bloco de notas, salvando o arquivo com a extensão `.py`?\n",
    "\n",
    "A resposta para ambas as perguntas é: ainda bem que não!\n",
    "\n",
    "No mundo da programação existem as IDEs (*Integrated Development Environments*), programas que podemos utilizar para nos auxiliar na programação. Existem várias IDEs que você pode utilizar para programar em Python. A mais conhecida é `PyCharm`. Porém você pode programar utilizando outras IDEs ou editores de texto, instalando plugins específicos. O mais conhecido deste último caso é o `VS Code`.\n",
    "  \n",
    "Por último, você pode utilizar um `Notebook`, como o `Jupyter Notebook`, o qual permite você misturar `markdown` e `código` no mesmo arquivo.\n",
    "\n",
    "-----\n",
    "\n",
    "Por fim, o próprio site oficial têm páginas que fornecem um conjunto de links de tutoriais para novos programadores de `Python`, sejam os [que já sabem programar](https://wiki.python.org/moin/BeginnersGuide/Programmers), sejam [aqueles que estão começando agora](https://wiki.python.org/moin/BeginnersGuide/NonProgrammers)."
   ]
  }
 ],
 "metadata": {
  "kernelspec": {
   "display_name": "Python 3",
   "language": "python",
   "name": "python3"
  },
  "language_info": {
   "name": "python",
   "version": "3.10.6 (main, Nov 14 2022, 16:10:14) [GCC 11.3.0]"
  },
  "orig_nbformat": 4,
  "vscode": {
   "interpreter": {
    "hash": "916dbcbb3f70747c44a77c7bcd40155683ae19c65e1c03b4aa3499c5328201f1"
   }
  }
 },
 "nbformat": 4,
 "nbformat_minor": 2
}
