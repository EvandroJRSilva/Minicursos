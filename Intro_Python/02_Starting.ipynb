{
 "cells": [
  {
   "attachments": {},
   "cell_type": "markdown",
   "metadata": {},
   "source": [
    "# Começando a Programar\n",
    "\n",
    "Sumário\n",
    "\n",
    "* [Controle de Fluxo](#controle-de-fluxo)\n",
    "  * [Blocos de Controle](#blocos-de-controle)\n",
    "    * [If-Else](#if-else)\n",
    "    * [Match](#match)\n",
    "    * Exercícios\n",
    "  * [Blocos de Repetição](#blocos-de-repetição)\n",
    "    * [While](#while)\n",
    "    * [For](#for)\n",
    "    * Exercícios\n",
    "* Estruturas de Dados\n",
    "  * Listas\n",
    "  * Strings\n",
    "  * Tuplas\n",
    "  * Conjuntos (Sets)\n",
    "  * Dicionários\n",
    "\n",
    "-----\n",
    "\n",
    "## Controle de Fluxo\n",
    "\n",
    "O fluxo de um programa pode ser controlado/manipulado a partir de `blocos e comandos de controle` e `blocos de repetição`.\n",
    "\n",
    "### Blocos de Controle\n",
    "\n",
    "#### If-Else\n",
    "\n",
    "O `bloco de controle` mais conhecido é o `if-else`. Sua estrutura é da seguinte forma:\n",
    "\n",
    "```python\n",
    "if condição:\n",
    "    comandos\n",
    "elif condição:\n",
    "    comandos\n",
    "else:\n",
    "    comandos\n",
    "```\n",
    "\n",
    "O que você 'está dizendo' a um programa é que ele deve executar uma série de comandos *se* determinada condição for verdadeira, *senão* outros comandos devem ser executados. Com o `elif` (contração de `else`+`if`) você pode testar outras condições para que outros comandos sejam executados.\n",
    "\n",
    "É importante notar o `:` após a condição. É esse símbolo o \"responsável\" por iniciar o bloco. E lembrando da primeira aula, em `Python` a identação é `significativa`. Isso pode ser percebido pelo fato de que todos os comandos que devem estar dentro de um bloco começam a ser escritos com após um espaço em branco. Você pode utilizar a tecla `tab` para essa identação. Algumas IDEs reconhecem o início do bloco e fazem esse espaçamento automaticamente."
   ]
  },
  {
   "cell_type": "code",
   "execution_count": 1,
   "metadata": {},
   "outputs": [
    {
     "name": "stdout",
     "output_type": "stream",
     "text": [
      "Maior de idade\n"
     ]
    }
   ],
   "source": [
    "idade = 18\n",
    "\n",
    "if idade >= 18:\n",
    "    print(\"Maior de idade\")\n",
    "else:\n",
    "    print(\"Menor de idade\")"
   ]
  },
  {
   "cell_type": "code",
   "execution_count": 2,
   "metadata": {},
   "outputs": [
    {
     "name": "stdout",
     "output_type": "stream",
     "text": [
      "Você é adolescente\n"
     ]
    }
   ],
   "source": [
    "# Quando usamos a função input, lemos um valor do tipo String. Quando usamos o int(x), o valor de x será convertido para um valor do tipo int.\n",
    "# Esse tipo de ação é conhecida como 'parse', onde você 'transforma' um tipo de valor em outro.\n",
    "idade = int(input(\"Digite sua idade: \"))\n",
    "\n",
    "if idade < 12:\n",
    "    print(\"Você é pré-adolescente\")\n",
    "elif idade >= 12 and idade < 18:\n",
    "    print(\"Você é adolescente\")\n",
    "elif idade >= 18 and idade < 28:\n",
    "    print(\"Você é jovem\")\n",
    "elif idade >= 28 and idade < 34:\n",
    "    print(\"Você é um jovem-adulto\")\n",
    "elif idade >= 34 and idade < 40:\n",
    "    print(\"Você é adulto\")\n",
    "else:\n",
    "    print(\"Você já está velho mesmo\")"
   ]
  },
  {
   "attachments": {},
   "cell_type": "markdown",
   "metadata": {},
   "source": [
    "#### Match\n",
    "\n",
    "Dependendo da situação, você quer comparar uma variável a múltiplos valores específicos, os quais deverão conduzir o programa a um conjunto de instruções. Em outras linguagens esse bloco é conhecido como `switch-case`. Em `Python` esse bloco é definido como `match`."
   ]
  },
  {
   "cell_type": "code",
   "execution_count": 3,
   "metadata": {},
   "outputs": [
    {
     "name": "stdout",
     "output_type": "stream",
     "text": [
      "Que dia foi isso?\n"
     ]
    }
   ],
   "source": [
    "status = 407\n",
    "\n",
    "match status:\n",
    "    case 400:\n",
    "        print(\"Bad request\")\n",
    "    case 401 | 403: # testando múltiplos valores com o símbolo para 'or'\n",
    "        print(\"Not allowed\")\n",
    "    case 404:\n",
    "        print(\"Not found\")\n",
    "    case 425:\n",
    "        print(\"Tá de bincation uite me?\")\n",
    "    case _: # cláusula 'coringa', o equivalente a 'default' em outras linguagens\n",
    "        print(\"Que dia foi isso?\")"
   ]
  },
  {
   "attachments": {},
   "cell_type": "markdown",
   "metadata": {},
   "source": [
    "#### Exercícios\n",
    "\n",
    "1. Escreva um programa para uma boate que leia a idade do usuário. Se o usuário for maior de idade o programa deverá informar que pode entrar na boate, senão deve informar ao usuário que, por ser menor de idade, não pode entrar.\n",
    "2. Escreva um programa para um brinquedo de parque que leia a altura do usuário em `metros`. Caso a altura do usuário for menor que 1.65 ou maior que 1.85, infelizmente não poderá entrar naquele brinquedo.\n",
    "3. Pesquise como se calcula o IMC e depois crie um programa que leia o peso do usuário e retorne seu índice de massa corporal.\n",
    "4. Pesquise pelos códigos do protocolo HTTP e faça um bloco `match` para retornar ao usuário a mensagem correta, de acordo com o código informado.\n",
    "5. Faça um código com o bloco `match` que retorne ao usuário se o valor digitado é par ou ímpar."
   ]
  },
  {
   "attachments": {},
   "cell_type": "markdown",
   "metadata": {},
   "source": [
    "### Blocos de repetição\n",
    "\n",
    "Os dois blocos de repetição mais conhecidos são o `while` e o `for`. As sintaxes são da seguinte forma:\n",
    "\n",
    "#### While\n",
    "\n",
    "```python\n",
    "while condição:\n",
    "    comandos\n",
    "```\n",
    "\n",
    "O bloco `while`, de forma similar ao `if`, testa uma condição e caso seja verdadeira (`true`) vai executar os comandos que estão dentro do bloco. É importante notar que, como se trata de bloco de repetição, após a execução do último comando do bloco, a condição será testada novamente. Portanto, se a condição não tiver como ser tornada falsa em algum momento o bloco `while` pode fazer com que o programa fique preso em um `loop infinito`.\n",
    "\n",
    "#### For\n",
    "\n",
    "```python\n",
    "for variável in valores:\n",
    "    comandos\n",
    "```\n",
    "\n",
    "O bloco `for` faz uma `iteração` sobre um conjunto de elementos, seja uma faixa de valores, seja uma lista. Para utilizar o `for` como um iterador de *n* passos, é possível utilizar a função `range`, a qual retorna uma lista de valores."
   ]
  },
  {
   "cell_type": "code",
   "execution_count": 4,
   "metadata": {},
   "outputs": [
    {
     "name": "stdout",
     "output_type": "stream",
     "text": [
      "Você tem  0  anos, é menor de idade\n",
      "Você tem  2  anos, é menor de idade\n",
      "Você tem  4  anos, é menor de idade\n",
      "Você tem  6  anos, é menor de idade\n",
      "Você tem  8  anos, é menor de idade\n",
      "Você tem  10  anos, é menor de idade\n",
      "Você tem  12  anos, é menor de idade\n",
      "Você tem  14  anos, é menor de idade\n",
      "Você tem  16  anos, é menor de idade\n"
     ]
    }
   ],
   "source": [
    "idade = 0\n",
    "\n",
    "while idade < 18:\n",
    "    print(\"Você tem \",idade,\" anos, é menor de idade\")\n",
    "    idade += 2"
   ]
  },
  {
   "cell_type": "code",
   "execution_count": 5,
   "metadata": {},
   "outputs": [
    {
     "name": "stdout",
     "output_type": "stream",
     "text": [
      "0\n",
      "1\n",
      "2\n",
      "3\n",
      "4\n",
      "5\n",
      "6\n",
      "7\n",
      "8\n",
      "9\n"
     ]
    }
   ],
   "source": [
    "for i in range(10):\n",
    "    print(i)"
   ]
  },
  {
   "cell_type": "code",
   "execution_count": 6,
   "metadata": {},
   "outputs": [
    {
     "name": "stdout",
     "output_type": "stream",
     "text": [
      "5\n",
      "6\n",
      "7\n",
      "8\n",
      "9\n"
     ]
    }
   ],
   "source": [
    "for i in range(5,10):\n",
    "    print(i)"
   ]
  },
  {
   "cell_type": "code",
   "execution_count": 7,
   "metadata": {},
   "outputs": [
    {
     "name": "stdout",
     "output_type": "stream",
     "text": [
      "2\n",
      "4\n",
      "6\n",
      "8\n"
     ]
    }
   ],
   "source": [
    "for i in range(2, 10, 2):\n",
    "    print(i)"
   ]
  },
  {
   "attachments": {},
   "cell_type": "markdown",
   "metadata": {},
   "source": [
    "Para saber mais detalhes sobre alguma função ou método só tem uma alternativa: **ver a documentação!**\n",
    "\n",
    "#### Exercícios\n",
    "\n",
    "1. Usando `while` leia os elementos de uma lista e imprima os números, um por um, enquanto nenhum for ímpar.\n",
    "2. Faça um programa que adicione elementos a uma lista de 2 elementos, enquanto a lista tiver menos de 20 elementos.\n",
    "3. Faça um programa usando `for` que verifique os números de 1 a 30 e diga se o número é par ou ímpar.\n",
    "4. Leia uma frase do usuário e, usando `while`, imprima uma letra por vez.\n",
    "5. Crie um programa que leia 5 números digitados pelo usuário e depois retorne sua média aritmética."
   ]
  },
  {
   "attachments": {},
   "cell_type": "markdown",
   "metadata": {},
   "source": [
    "-----\n",
    "\n",
    "## Estruturas de Dados\n",
    "\n",
    "A linguagem possui algumas estruturas de dados nativa:\n",
    "\n",
    "* Listas;\n",
    "* Strings;\n",
    "* Tuplas;\n",
    "* Conjuntos (Sets);\n",
    "* Dicionários.\n",
    "\n",
    "### Listas\n",
    "\n",
    "Uma lista é uma sequência ordenada separada por vírgula `,` e envolto em colchetes `[ ]`."
   ]
  },
  {
   "cell_type": "code",
   "execution_count": 8,
   "metadata": {},
   "outputs": [],
   "source": [
    "# Lista vazia\n",
    "vazia = []"
   ]
  },
  {
   "cell_type": "code",
   "execution_count": 21,
   "metadata": {},
   "outputs": [],
   "source": [
    "# Lista de valores inteiros e pares\n",
    "pares = [2, 4, 6, 8, 10]"
   ]
  },
  {
   "cell_type": "code",
   "execution_count": 12,
   "metadata": {},
   "outputs": [],
   "source": [
    "# Lista de tipos de dados diferentes\n",
    "diferentes = [1, 2.0, True, complex(2, 3)]"
   ]
  },
  {
   "attachments": {},
   "cell_type": "markdown",
   "metadata": {},
   "source": [
    "Acessando elementos individuais ou um grupo de elementos. A sintaxe é `a:b`, onde `a` é o primeiro índice, incluso, e `b` é o último índice, porém não incluso. Exemplo: `0:6`, inclui os índices de 0 a 5."
   ]
  },
  {
   "cell_type": "code",
   "execution_count": 13,
   "metadata": {},
   "outputs": [
    {
     "data": {
      "text/plain": [
       "2"
      ]
     },
     "execution_count": 13,
     "metadata": {},
     "output_type": "execute_result"
    }
   ],
   "source": [
    "pares[0]"
   ]
  },
  {
   "cell_type": "code",
   "execution_count": 14,
   "metadata": {},
   "outputs": [
    {
     "data": {
      "text/plain": [
       "(2+3j)"
      ]
     },
     "execution_count": 14,
     "metadata": {},
     "output_type": "execute_result"
    }
   ],
   "source": [
    "# Acessando o último elemento da lista\n",
    "diferentes[-1]"
   ]
  },
  {
   "cell_type": "code",
   "execution_count": 15,
   "metadata": {},
   "outputs": [
    {
     "data": {
      "text/plain": [
       "[2, 4]"
      ]
     },
     "execution_count": 15,
     "metadata": {},
     "output_type": "execute_result"
    }
   ],
   "source": [
    "pares[0:2]"
   ]
  },
  {
   "cell_type": "code",
   "execution_count": 16,
   "metadata": {},
   "outputs": [
    {
     "data": {
      "text/plain": [
       "[8, 10]"
      ]
     },
     "execution_count": 16,
     "metadata": {},
     "output_type": "execute_result"
    }
   ],
   "source": [
    "pares[3:]"
   ]
  },
  {
   "cell_type": "code",
   "execution_count": 17,
   "metadata": {},
   "outputs": [
    {
     "data": {
      "text/plain": [
       "[1, 2.0, True]"
      ]
     },
     "execution_count": 17,
     "metadata": {},
     "output_type": "execute_result"
    }
   ],
   "source": [
    "diferentes[:3]"
   ]
  },
  {
   "attachments": {},
   "cell_type": "markdown",
   "metadata": {},
   "source": [
    "Concatenando listas"
   ]
  },
  {
   "cell_type": "code",
   "execution_count": 18,
   "metadata": {},
   "outputs": [
    {
     "data": {
      "text/plain": [
       "[2, 4, 6, 8, 10, 1, 2.0, True, (2+3j)]"
      ]
     },
     "execution_count": 18,
     "metadata": {},
     "output_type": "execute_result"
    }
   ],
   "source": [
    "pares + diferentes"
   ]
  },
  {
   "attachments": {},
   "cell_type": "markdown",
   "metadata": {},
   "source": [
    "Adicionando elementos à lista"
   ]
  },
  {
   "cell_type": "code",
   "execution_count": 22,
   "metadata": {},
   "outputs": [
    {
     "data": {
      "text/plain": [
       "[0, 2, 4, 6, 8, 10]"
      ]
     },
     "execution_count": 22,
     "metadata": {},
     "output_type": "execute_result"
    }
   ],
   "source": [
    "# No índice desejado\n",
    "\n",
    "pares.insert(0, 0)\n",
    "pares"
   ]
  },
  {
   "cell_type": "code",
   "execution_count": 23,
   "metadata": {},
   "outputs": [
    {
     "data": {
      "text/plain": [
       "[1, 2.0, True, (2+3j), 'a']"
      ]
     },
     "execution_count": 23,
     "metadata": {},
     "output_type": "execute_result"
    }
   ],
   "source": [
    "# Ao fim da lista\n",
    "diferentes.append('a')\n",
    "diferentes"
   ]
  },
  {
   "cell_type": "code",
   "execution_count": 24,
   "metadata": {},
   "outputs": [
    {
     "data": {
      "text/plain": [
       "[1, 2.0, True, (2+3j), 'a', (1+2j), 'b']"
      ]
     },
     "execution_count": 24,
     "metadata": {},
     "output_type": "execute_result"
    }
   ],
   "source": [
    "# Múltiplos elementos ao fim da lista\n",
    "diferentes.extend([complex(1, 2), 'b'])\n",
    "diferentes"
   ]
  },
  {
   "attachments": {},
   "cell_type": "markdown",
   "metadata": {},
   "source": [
    "Modificando elementos da lista"
   ]
  },
  {
   "cell_type": "code",
   "execution_count": 25,
   "metadata": {},
   "outputs": [
    {
     "name": "stdout",
     "output_type": "stream",
     "text": [
      "[0, 2, 4, 6, 8, 10]\n"
     ]
    },
    {
     "data": {
      "text/plain": [
       "[-1, 2, 4, 6, 8, 10]"
      ]
     },
     "execution_count": 25,
     "metadata": {},
     "output_type": "execute_result"
    }
   ],
   "source": [
    "print(pares)\n",
    "pares[0] = -1\n",
    "pares"
   ]
  },
  {
   "attachments": {},
   "cell_type": "markdown",
   "metadata": {},
   "source": [
    "#### Exercícios\n",
    "\n",
    "1. Crie uma lista de `floats`.\n",
    "2. Crie uma lista de `ints` e concatene com a lista de `floats`.\n",
    "3. Escreva um programa que insira em uma lista 3 elementos digitados pelo usuário.\n",
    "4. Escreva um programa que insira em uma lista 3 elementos digitados pelo usuário, informe a quantidade de elementos e qual foi o úiltimo inserido.\n",
    "5. Pesquise sobre os métodos `count` e `remove` de uma lista. Depois escreva um programa que diga quantas vezes um valor fornecido pelo usuário aparece em uma lista, e remova um desses valores."
   ]
  },
  {
   "attachments": {},
   "cell_type": "markdown",
   "metadata": {},
   "source": [
    "### Strings\n",
    "\n",
    "Uma `String` é um conjunto de caracteres. Em `Python` uma string pode ser expressa com aspas simples `' '` ou aspas duplas `\" \"`. Uma string pode ser também associada a uma variável e, portanto, ser manipulada.\n",
    "\n",
    "Para imprimir algum conteúdo no terminal é preciso utilizar a função `print`. E, caso você queira \"ler\" algum conteúdo do terminal, basta utilizar a função `input`.\n",
    "\n",
    "Vimos, há pouco, que um comentário de 1 linha pode ser escrito ao se utilizar `#` antes. Se você necessitar de um comentário, ou string de várias linhas, basta utilizar aspas simples ou duplas três vezes: `''' ... '''`."
   ]
  },
  {
   "cell_type": "code",
   "execution_count": 26,
   "metadata": {},
   "outputs": [
    {
     "data": {
      "text/plain": [
       "'Minha String'"
      ]
     },
     "execution_count": 26,
     "metadata": {},
     "output_type": "execute_result"
    }
   ],
   "source": [
    "a = 'Minha String'\n",
    "a"
   ]
  },
  {
   "cell_type": "code",
   "execution_count": 27,
   "metadata": {},
   "outputs": [
    {
     "data": {
      "text/plain": [
       "'Minha String'"
      ]
     },
     "execution_count": 27,
     "metadata": {},
     "output_type": "execute_result"
    }
   ],
   "source": [
    "a = \"Minha String\"\n",
    "a"
   ]
  },
  {
   "cell_type": "code",
   "execution_count": 28,
   "metadata": {},
   "outputs": [
    {
     "data": {
      "text/plain": [
       "'Olar Mũdo'"
      ]
     },
     "execution_count": 28,
     "metadata": {},
     "output_type": "execute_result"
    }
   ],
   "source": [
    "\"\"\"\n",
    "Comentário de\n",
    "várias\n",
    "linhas\n",
    "\"\"\"\n",
    "a = 'Olar Mũdo'\n",
    "a"
   ]
  },
  {
   "cell_type": "code",
   "execution_count": 29,
   "metadata": {},
   "outputs": [
    {
     "data": {
      "text/plain": [
       "'Olar Mũdo'"
      ]
     },
     "execution_count": 29,
     "metadata": {},
     "output_type": "execute_result"
    }
   ],
   "source": [
    "'''\n",
    "Comentário de\n",
    "várias\n",
    "linhas\n",
    "'''\n",
    "a = 'Olar Mũdo'\n",
    "a"
   ]
  },
  {
   "cell_type": "code",
   "execution_count": 30,
   "metadata": {},
   "outputs": [
    {
     "name": "stdout",
     "output_type": "stream",
     "text": [
      "Olar Mondo\n"
     ]
    }
   ],
   "source": [
    "# A função input recebe como parâmetro a mensagem que será mostrada ao usuário\n",
    "a = input(\"Escreva alguma coisa: \")\n",
    "\n",
    "print(a)"
   ]
  },
  {
   "attachments": {},
   "cell_type": "markdown",
   "metadata": {},
   "source": [
    "Strings podem ser `concatenadas` com o operador de adição `+`. Ao mesmo tempo, você pode repetir uma string ao multiplicá-la por algum valor escalar."
   ]
  },
  {
   "cell_type": "code",
   "execution_count": 31,
   "metadata": {},
   "outputs": [
    {
     "data": {
      "text/plain": [
       "'Estringue'"
      ]
     },
     "execution_count": 31,
     "metadata": {},
     "output_type": "execute_result"
    }
   ],
   "source": [
    "a = \"Es\"\n",
    "b = 'tringue'\n",
    "\n",
    "a+b"
   ]
  },
  {
   "cell_type": "code",
   "execution_count": 32,
   "metadata": {},
   "outputs": [
    {
     "data": {
      "text/plain": [
       "'Ratatata'"
      ]
     },
     "execution_count": 32,
     "metadata": {},
     "output_type": "execute_result"
    }
   ],
   "source": [
    "a = 'Ra'\n",
    "b = 'ta'\n",
    "\n",
    "a + 3*b"
   ]
  },
  {
   "cell_type": "code",
   "execution_count": 33,
   "metadata": {},
   "outputs": [
    {
     "data": {
      "text/plain": [
       "'tatatatataravô'"
      ]
     },
     "execution_count": 33,
     "metadata": {},
     "output_type": "execute_result"
    }
   ],
   "source": [
    "a = 'ta'\n",
    "b = 'ravô'\n",
    "\n",
    "5*a + b"
   ]
  },
  {
   "attachments": {},
   "cell_type": "markdown",
   "metadata": {},
   "source": [
    "Lembrando que uma string é um `conjunto` de caracteres, é possível acessar cada caractere da string."
   ]
  },
  {
   "cell_type": "code",
   "execution_count": 34,
   "metadata": {},
   "outputs": [
    {
     "data": {
      "text/plain": [
       "'O'"
      ]
     },
     "execution_count": 34,
     "metadata": {},
     "output_type": "execute_result"
    }
   ],
   "source": [
    "a = \"Olar Mũdo\"\n",
    "\n",
    "a[0]"
   ]
  },
  {
   "cell_type": "code",
   "execution_count": 35,
   "metadata": {},
   "outputs": [
    {
     "data": {
      "text/plain": [
       "'r Mũdo'"
      ]
     },
     "execution_count": 35,
     "metadata": {},
     "output_type": "execute_result"
    }
   ],
   "source": [
    "# De uma posição até ao fim\n",
    "a[3:]"
   ]
  },
  {
   "cell_type": "code",
   "execution_count": 36,
   "metadata": {},
   "outputs": [
    {
     "data": {
      "text/plain": [
       "'o'"
      ]
     },
     "execution_count": 36,
     "metadata": {},
     "output_type": "execute_result"
    }
   ],
   "source": [
    "# A última posição\n",
    "a[-1]"
   ]
  },
  {
   "cell_type": "code",
   "execution_count": 37,
   "metadata": {},
   "outputs": [
    {
     "data": {
      "text/plain": [
       "9"
      ]
     },
     "execution_count": 37,
     "metadata": {},
     "output_type": "execute_result"
    }
   ],
   "source": [
    "# A função len retorna o comprimento. Neste caso, o comprimento da String, incluindo os espaços vazios\n",
    "len(a)"
   ]
  },
  {
   "cell_type": "code",
   "execution_count": 38,
   "metadata": {},
   "outputs": [
    {
     "name": "stdout",
     "output_type": "stream",
     "text": [
      "Olar Mũdo\n"
     ]
    }
   ],
   "source": [
    "print(a)"
   ]
  },
  {
   "cell_type": "code",
   "execution_count": 39,
   "metadata": {},
   "outputs": [
    {
     "ename": "TypeError",
     "evalue": "'str' object does not support item assignment",
     "output_type": "error",
     "traceback": [
      "\u001b[0;31m---------------------------------------------------------------------------\u001b[0m",
      "\u001b[0;31mTypeError\u001b[0m                                 Traceback (most recent call last)",
      "Cell \u001b[0;32mIn[39], line 2\u001b[0m\n\u001b[1;32m      1\u001b[0m \u001b[39m# Strings são imutáveis. Não dá para trocar o 'O' pelo 'A'\u001b[39;00m\n\u001b[0;32m----> 2\u001b[0m a[\u001b[39m0\u001b[39;49m] \u001b[39m=\u001b[39m \u001b[39m\"\u001b[39m\u001b[39mA\u001b[39m\u001b[39m\"\u001b[39m\n\u001b[1;32m      3\u001b[0m a\n",
      "\u001b[0;31mTypeError\u001b[0m: 'str' object does not support item assignment"
     ]
    }
   ],
   "source": [
    "# Strings são imutáveis. Não dá para trocar o 'O' pelo 'A'\n",
    "a[0] = \"A\"\n",
    "a"
   ]
  },
  {
   "attachments": {},
   "cell_type": "markdown",
   "metadata": {},
   "source": [
    "Iterando em uma String"
   ]
  },
  {
   "cell_type": "code",
   "execution_count": 40,
   "metadata": {},
   "outputs": [
    {
     "name": "stdout",
     "output_type": "stream",
     "text": [
      "O\n",
      "l\n",
      "a\n",
      "r\n",
      " \n",
      "M\n",
      "ũ\n",
      "d\n",
      "o\n"
     ]
    }
   ],
   "source": [
    "for i in a:\n",
    "    print(i)"
   ]
  },
  {
   "attachments": {},
   "cell_type": "markdown",
   "metadata": {},
   "source": [
    "#### Exercícios\n",
    "\n",
    "1. Escreva um programa que leia o nome de um usuário e então imprima o nome digitado.\n",
    "2. Crie duas variáveis, onde a primeira será um número e a segunda uma string. Imprima a string a quantidade de vezes expressa pelo número.\n",
    "3. Escreva um programa que leia uma frase do usuário e depois imprima os 10 primeiros caracteres, e depois os 10 últimos caracteres.\n",
    "4. Escreva um programa que leia uma frase do usuário e depois informe quantos caracteres foram digitados.\n",
    "5. Pesquise sobre os métodos nativos para manipulação de String do `Python`. Escolha 3 métodos para e teste-os.\n",
    "\n",
    "### Tuplas\n",
    "\n",
    "Tuplas são quase idênticas a listas, ou seja, são uma sequência ordenada de valores ou elementos, os quais podem ser de diferentes tipos. São duas as principais diferenças:\n",
    "\n",
    "1. Tuplas são imutáveis.\n",
    "2. Tuplas são envoltas em parênteses `( )`.\n",
    "\n",
    "Uma vez que são imutáveis, não é possível adicionar ou remover elementos de uma tupla. Por causa disso, é possível criar `constantes` com múltiplos valores, os quais podem ser acessados mais rapidamente do que em uma lista."
   ]
  },
  {
   "cell_type": "code",
   "execution_count": 41,
   "metadata": {},
   "outputs": [],
   "source": [
    "# Tupla vazia\n",
    "tupla_vazia = ()"
   ]
  },
  {
   "cell_type": "code",
   "execution_count": 42,
   "metadata": {},
   "outputs": [],
   "source": [
    "# Criando uma tupla vazia com a função nativa\n",
    "tupla_vazia = tuple()"
   ]
  },
  {
   "cell_type": "code",
   "execution_count": 43,
   "metadata": {},
   "outputs": [],
   "source": [
    "# Tupla com apenas 1 elemento\n",
    "tuplinha = (1, ) # tem que ter a vírgula, mesmo que tenha só 1 elemento"
   ]
  },
  {
   "cell_type": "code",
   "execution_count": 44,
   "metadata": {},
   "outputs": [
    {
     "data": {
      "text/plain": [
       "(1, 2, 3, 4)"
      ]
     },
     "execution_count": 44,
     "metadata": {},
     "output_type": "execute_result"
    }
   ],
   "source": [
    "# Tupla de inteiros\n",
    "tuplint = (1, 2, 3, 4)\n",
    "tuplint"
   ]
  },
  {
   "cell_type": "code",
   "execution_count": 45,
   "metadata": {},
   "outputs": [],
   "source": [
    "# Tupla de tipos diferentes, sem usar os parênteses\n",
    "tupliferente = 1, 2.0, complex(4, 5), 'Que?'"
   ]
  },
  {
   "attachments": {},
   "cell_type": "markdown",
   "metadata": {},
   "source": [
    "Tuplas podem ser concatenadas também"
   ]
  },
  {
   "cell_type": "code",
   "execution_count": 46,
   "metadata": {},
   "outputs": [
    {
     "data": {
      "text/plain": [
       "(1, 2, 3, 4, 1, 2.0, (4+5j), 'Que?')"
      ]
     },
     "execution_count": 46,
     "metadata": {},
     "output_type": "execute_result"
    }
   ],
   "source": [
    "tuplint + tupliferente"
   ]
  },
  {
   "attachments": {},
   "cell_type": "markdown",
   "metadata": {},
   "source": [
    "Podemos acessar elementos únicos, ou um conjunto deles, através dos índices"
   ]
  },
  {
   "cell_type": "code",
   "execution_count": 47,
   "metadata": {},
   "outputs": [
    {
     "data": {
      "text/plain": [
       "3"
      ]
     },
     "execution_count": 47,
     "metadata": {},
     "output_type": "execute_result"
    }
   ],
   "source": [
    "tuplint[2]"
   ]
  },
  {
   "cell_type": "code",
   "execution_count": 48,
   "metadata": {},
   "outputs": [
    {
     "data": {
      "text/plain": [
       "((4+5j), 'Que?')"
      ]
     },
     "execution_count": 48,
     "metadata": {},
     "output_type": "execute_result"
    }
   ],
   "source": [
    "tupliferente[2:]"
   ]
  },
  {
   "attachments": {},
   "cell_type": "markdown",
   "metadata": {},
   "source": [
    "TODO:\n",
    "Exercícios"
   ]
  },
  {
   "attachments": {},
   "cell_type": "markdown",
   "metadata": {},
   "source": [
    "### Conjuntos (Sets)\n",
    "\n",
    "Um `Set` em `Python` é um conjunto `não ordenado` de valores ou elementos. O `Set` é mutável, porém cada elemento é imutável. Além disso essa estrutura de dados não permite múltiplas ocorrências do mesmo elemento.\n",
    "\n",
    "Um `Set` é criado ao se utilizar chaves `{ }`, ou a função nativa `set`."
   ]
  },
  {
   "cell_type": "code",
   "execution_count": 61,
   "metadata": {},
   "outputs": [],
   "source": [
    "# Criando um conjunto vazio\n",
    "conjunto_vazio = set()"
   ]
  },
  {
   "cell_type": "code",
   "execution_count": 50,
   "metadata": {},
   "outputs": [
    {
     "data": {
      "text/plain": [
       "{1, 2, 3, 4, 5}"
      ]
     },
     "execution_count": 50,
     "metadata": {},
     "output_type": "execute_result"
    }
   ],
   "source": [
    "# Conjunto de inteiros\n",
    "inteiros = {1, 2, 3, 4, 5}\n",
    "inteiros"
   ]
  },
  {
   "cell_type": "code",
   "execution_count": 54,
   "metadata": {},
   "outputs": [
    {
     "name": "stdout",
     "output_type": "stream",
     "text": [
      "{'o', 'e', 'h', 's', ' ', 'P', 'y', 't', 'S', 'n'}\n"
     ]
    }
   ],
   "source": [
    "# Conjunto de caracteres ... a função set 'quebra' a string\n",
    "caraquiteres = set('Python Sets')\n",
    "print(caraquiteres)"
   ]
  },
  {
   "attachments": {},
   "cell_type": "markdown",
   "metadata": {},
   "source": [
    "> Perceba que existem duas letras `s`. Mas não era proibido valores duplicados? Nesse caso existe a diferença entre `S` e `s`.\n",
    "\n",
    "O método `add` adiciona um elemento único, enquanto o método `update` adiciona vários novos elementos. Duplicatas são ignoradas."
   ]
  },
  {
   "cell_type": "code",
   "execution_count": 55,
   "metadata": {},
   "outputs": [
    {
     "data": {
      "text/plain": [
       "{' ', 'P', 'S', 'T', 'e', 'h', 'n', 'o', 's', 't', 'y'}"
      ]
     },
     "execution_count": 55,
     "metadata": {},
     "output_type": "execute_result"
    }
   ],
   "source": [
    "caraquiteres.add('T')\n",
    "caraquiteres"
   ]
  },
  {
   "cell_type": "code",
   "execution_count": 57,
   "metadata": {},
   "outputs": [
    {
     "data": {
      "text/plain": [
       "{' ', 'P', 'S', 'T', 'e', 'h', 'n', 'o', 'r', 's', 't', 'u', 'v', 'y'}"
      ]
     },
     "execution_count": 57,
     "metadata": {},
     "output_type": "execute_result"
    }
   ],
   "source": [
    "caraquiteres.update(['s', 'r', 't', 'u', 'v'])\n",
    "caraquiteres"
   ]
  },
  {
   "attachments": {},
   "cell_type": "markdown",
   "metadata": {},
   "source": [
    "Para remover um item é possível utilizar o método `pop`. Não é possível indicar o índice que queremos, pois o `Set` é `não ordenado`."
   ]
  },
  {
   "cell_type": "code",
   "execution_count": 58,
   "metadata": {},
   "outputs": [
    {
     "name": "stdout",
     "output_type": "stream",
     "text": [
      "{1, 2, 3, 4, 5}\n",
      "{2, 3, 4, 5}\n"
     ]
    }
   ],
   "source": [
    "print(inteiros)\n",
    "inteiros.pop()\n",
    "print(inteiros)"
   ]
  },
  {
   "attachments": {},
   "cell_type": "markdown",
   "metadata": {},
   "source": [
    "> O conjunto `inteiros` está *aparentemente* ordenado por causa da `função hash` que é utilizada para armazenar os valores.\n",
    "\n",
    "Se soubermos o elemento exato que queremos retirar do `Set`, é possível utilizar o método `remove`."
   ]
  },
  {
   "cell_type": "code",
   "execution_count": 59,
   "metadata": {},
   "outputs": [
    {
     "name": "stdout",
     "output_type": "stream",
     "text": [
      "{'o', 'u', 'e', 'h', 'T', 'r', 's', ' ', 'P', 'y', 't', 'v', 'S', 'n'}\n",
      "{'o', 'u', 'e', 'h', 'r', 's', ' ', 'P', 'y', 't', 'v', 'S', 'n'}\n"
     ]
    }
   ],
   "source": [
    "print(caraquiteres)\n",
    "caraquiteres.remove('T')\n",
    "print(caraquiteres)"
   ]
  },
  {
   "attachments": {},
   "cell_type": "markdown",
   "metadata": {},
   "source": [
    "Se o elemento especificado no método `remove` não estiver no conjunto, será gerado um erro. Para que o erro não seja gerado, pode ser utilizado o método `discard`.\n",
    "\n",
    "> Se o `Set` não tem índices, então não tem como iterar?\n",
    "\n",
    "Na verdade o `Python` permite a iteração, pois o `for` não itera sobre os índices, mas sim sobre os elementos."
   ]
  },
  {
   "cell_type": "code",
   "execution_count": 60,
   "metadata": {},
   "outputs": [
    {
     "name": "stdout",
     "output_type": "stream",
     "text": [
      "o\n",
      "u\n",
      "e\n",
      "h\n",
      "r\n",
      "s\n",
      " \n",
      "P\n",
      "y\n",
      "t\n",
      "v\n",
      "S\n",
      "n\n"
     ]
    }
   ],
   "source": [
    "for i in caraquiteres:\n",
    "    print(i)"
   ]
  },
  {
   "attachments": {},
   "cell_type": "markdown",
   "metadata": {},
   "source": [
    "#### Exercícios\n",
    "\n",
    "1. Pesquise sobre as operações matemáticas que podem ser feitas com os conjuntos (`união`, `interseção`, etc.) em `Python`, e crie 3 conjuntos para utilizá-las.\n",
    "\n",
    "TODO: Mais exercícios\n",
    "\n",
    "### Dicionários\n",
    "\n",
    "Um `Dicionário` é um conjunto `ordenado` de pares `chave-valor`. Os elementos são separados por vírgula `,` e a chave é separada do valor por dois pontos `:`. Essa estrutura de dados é envolta em chaves `{ }`."
   ]
  },
  {
   "cell_type": "code",
   "execution_count": 62,
   "metadata": {},
   "outputs": [],
   "source": [
    "# Criando um dicionário vazio\n",
    "dicio_vazio = {}"
   ]
  },
  {
   "cell_type": "code",
   "execution_count": 63,
   "metadata": {},
   "outputs": [],
   "source": [
    "# Criando dicionário vazio com a função nativa\n",
    "dicio_vazio = dict()"
   ]
  },
  {
   "cell_type": "code",
   "execution_count": 64,
   "metadata": {},
   "outputs": [
    {
     "data": {
      "text/plain": [
       "{1: 'a', 2: 'b', 3: 'c', 4: 'd', 5: 'e'}"
      ]
     },
     "execution_count": 64,
     "metadata": {},
     "output_type": "execute_result"
    }
   ],
   "source": [
    "# Dicionário com chaves inteiras\n",
    "diciointeiro = {1:'a', 2:'b', 3:'c', 4:'d', 5:'e'}\n",
    "diciointeiro"
   ]
  },
  {
   "cell_type": "code",
   "execution_count": 65,
   "metadata": {},
   "outputs": [
    {
     "data": {
      "text/plain": [
       "{1: 'a', (7+8j): 'b', 3.0: 'c'}"
      ]
     },
     "execution_count": 65,
     "metadata": {},
     "output_type": "execute_result"
    }
   ],
   "source": [
    "# Chaves de tipos diferentes\n",
    "dicioferente = {1:'a', complex(7,8):'b', 3.0:'c'}\n",
    "dicioferente"
   ]
  },
  {
   "cell_type": "code",
   "execution_count": 68,
   "metadata": {},
   "outputs": [
    {
     "data": {
      "text/plain": [
       "'a'"
      ]
     },
     "execution_count": 68,
     "metadata": {},
     "output_type": "execute_result"
    }
   ],
   "source": [
    "# Valores são acessados pela chave\n",
    "diciointeiro[1]"
   ]
  },
  {
   "attachments": {},
   "cell_type": "markdown",
   "metadata": {},
   "source": [
    "Adicionando novos elementos"
   ]
  },
  {
   "cell_type": "code",
   "execution_count": 69,
   "metadata": {},
   "outputs": [
    {
     "data": {
      "text/plain": [
       "{1: 'a', 2: 'b', 3: 'c', 4: 'd', 5: 'e', 6: 'f'}"
      ]
     },
     "execution_count": 69,
     "metadata": {},
     "output_type": "execute_result"
    }
   ],
   "source": [
    "# Adicionando ao definir uma nova chave e seu valor correspondente\n",
    "diciointeiro[6] = 'f'\n",
    "diciointeiro"
   ]
  },
  {
   "attachments": {},
   "cell_type": "markdown",
   "metadata": {},
   "source": [
    "Atualizando um elemento"
   ]
  },
  {
   "cell_type": "code",
   "execution_count": 72,
   "metadata": {},
   "outputs": [
    {
     "data": {
      "text/plain": [
       "{1: 'aa', 2: 'b', 3: 'c', 4: 'd', 5: 'e', 6: 'f'}"
      ]
     },
     "execution_count": 72,
     "metadata": {},
     "output_type": "execute_result"
    }
   ],
   "source": [
    "diciointeiro[1] = 'aa'\n",
    "diciointeiro"
   ]
  },
  {
   "attachments": {},
   "cell_type": "markdown",
   "metadata": {},
   "source": [
    "A iteração sobre um `dicionário` acontece pelas suas chaves"
   ]
  },
  {
   "cell_type": "code",
   "execution_count": 74,
   "metadata": {},
   "outputs": [
    {
     "name": "stdout",
     "output_type": "stream",
     "text": [
      "1\n",
      "(7+8j)\n",
      "3.0\n"
     ]
    }
   ],
   "source": [
    "for i in dicioferente:\n",
    "    print(i)"
   ]
  },
  {
   "cell_type": "code",
   "execution_count": 75,
   "metadata": {},
   "outputs": [
    {
     "name": "stdout",
     "output_type": "stream",
     "text": [
      "a\n",
      "b\n",
      "c\n"
     ]
    }
   ],
   "source": [
    "for i in dicioferente:\n",
    "    print(dicioferente[i])"
   ]
  },
  {
   "attachments": {},
   "cell_type": "markdown",
   "metadata": {},
   "source": [
    "#### Exercícios\n",
    "\n",
    "TODO: acrescentar exercícios"
   ]
  }
 ],
 "metadata": {
  "kernelspec": {
   "display_name": "Python 3",
   "language": "python",
   "name": "python3"
  },
  "language_info": {
   "codemirror_mode": {
    "name": "ipython",
    "version": 3
   },
   "file_extension": ".py",
   "mimetype": "text/x-python",
   "name": "python",
   "nbconvert_exporter": "python",
   "pygments_lexer": "ipython3",
   "version": "3.10.6"
  },
  "orig_nbformat": 4,
  "vscode": {
   "interpreter": {
    "hash": "916dbcbb3f70747c44a77c7bcd40155683ae19c65e1c03b4aa3499c5328201f1"
   }
  }
 },
 "nbformat": 4,
 "nbformat_minor": 2
}
