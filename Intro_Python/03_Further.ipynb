{
 "cells": [
  {
   "attachments": {},
   "cell_type": "markdown",
   "metadata": {},
   "source": [
    "# Deixando o programa mais complexo\n",
    "\n",
    "\n",
    "-----\n",
    "\n",
    "## Funções\n",
    "\n",
    "`Python` permite que funções e procedimentos sejam criados. Isso permite aos programadores que várias linhas de código possam ser reutilizadas sem necessitarem ser reescritas. A sintaxe é como segue:\n",
    "\n",
    "```python\n",
    "def nome(arg1, arg2, ...):\n",
    "    \"\"\"docstring\"\"\"\n",
    "    comandos\n",
    "    return [expressão]\n",
    "```\n",
    "\n",
    "Para declarar a função, ou procedimento, é necessária a utilização da palavra reservada `def`. Após a palavra reservada deve ser definida o nome da função e, entre parênteses, os parâmetros (caso sejam necessários).\n",
    "\n",
    "A `docstring` é a documentação da função, escrita dentro do bloco de 3 aspas. E o comando `return` faz com que a execução saia da função imediamente. Para utilizar a função depois, basta escrever seu nome e passar os parâmetros: `nome(10, 'olá')`. Até então já utilizamos várias funções nativas do `Python`. O exemplo mais utilizado, possivelmente é o `print`."
   ]
  },
  {
   "cell_type": "code",
   "execution_count": 1,
   "metadata": {},
   "outputs": [
    {
     "name": "stdout",
     "output_type": "stream",
     "text": [
      "A soma é:  30\n",
      "A subtração é:  -10\n"
     ]
    }
   ],
   "source": [
    "def soma(a, b):\n",
    "    return a+b\n",
    "\n",
    "def sub(a, b):\n",
    "    return a-b\n",
    "\n",
    "num1 = int(input(\"Digite o primeiro número: \"))\n",
    "num2 = int(input(\"Digite o segundo número: \"))\n",
    "\n",
    "print(\"A soma é: \", soma(num1,num2))\n",
    "print(\"A subtração é: \", sub(num1, num2))"
   ]
  },
  {
   "cell_type": "code",
   "execution_count": 2,
   "metadata": {},
   "outputs": [
    {
     "name": "stdout",
     "output_type": "stream",
     "text": [
      "Colabora Parceiro\n",
      "Colabora Parceiro\n",
      "Colabora Parceiro\n",
      "Colabora Parceiro\n"
     ]
    },
    {
     "ename": "ValueError",
     "evalue": "Resposta Inválida",
     "output_type": "error",
     "traceback": [
      "\u001b[0;31m---------------------------------------------------------------------------\u001b[0m",
      "\u001b[0;31mValueError\u001b[0m                                Traceback (most recent call last)",
      "Cell \u001b[0;32mIn[2], line 14\u001b[0m\n\u001b[1;32m     11\u001b[0m             \u001b[39mraise\u001b[39;00m \u001b[39mValueError\u001b[39;00m(\u001b[39m'\u001b[39m\u001b[39mResposta Inválida\u001b[39m\u001b[39m'\u001b[39m)\n\u001b[1;32m     12\u001b[0m         \u001b[39mprint\u001b[39m(alerta)\n\u001b[0;32m---> 14\u001b[0m pode_ou_nao(\u001b[39m\"\u001b[39;49m\u001b[39mVocê deseja sair do programa?\u001b[39;49m\u001b[39m\"\u001b[39;49m)\n",
      "Cell \u001b[0;32mIn[2], line 11\u001b[0m, in \u001b[0;36mpode_ou_nao\u001b[0;34m(pergunta, tentativas, alerta)\u001b[0m\n\u001b[1;32m      9\u001b[0m tentativas \u001b[39m-\u001b[39m\u001b[39m=\u001b[39m \u001b[39m1\u001b[39m\n\u001b[1;32m     10\u001b[0m \u001b[39mif\u001b[39;00m tentativas \u001b[39m<\u001b[39m \u001b[39m0\u001b[39m:\n\u001b[0;32m---> 11\u001b[0m     \u001b[39mraise\u001b[39;00m \u001b[39mValueError\u001b[39;00m(\u001b[39m'\u001b[39m\u001b[39mResposta Inválida\u001b[39m\u001b[39m'\u001b[39m)\n\u001b[1;32m     12\u001b[0m \u001b[39mprint\u001b[39m(alerta)\n",
      "\u001b[0;31mValueError\u001b[0m: Resposta Inválida"
     ]
    }
   ],
   "source": [
    "# Função com um parâmetro obrigatório e 2 parâmetros opcionais\n",
    "def pode_ou_nao(pergunta, tentativas=4, alerta='Colabora Parceiro'):\n",
    "    while True:\n",
    "        ok = input(pergunta)\n",
    "        if ok in ('s', 'sim', 'claro'):\n",
    "            return True\n",
    "        if ok in ('n', 'não', 'nem', 'claro que não'):\n",
    "            return False\n",
    "        tentativas -= 1\n",
    "        if tentativas < 0:\n",
    "            raise ValueError('Resposta Inválida')\n",
    "        print(alerta)\n",
    "\n",
    "pode_ou_nao(\"Você deseja sair do programa?\")"
   ]
  },
  {
   "attachments": {},
   "cell_type": "markdown",
   "metadata": {},
   "source": [
    "### Exercícios\n",
    "\n",
    "1. Faça uma função que calcule o fatorial de um número qualquer.\n",
    "2. Faça uma função que imprima a sequência de Fibonacci para *n* termos.\n",
    "3. Faça uma função que retorne o quadrado de qualquer número digitado pelo usuário.\n",
    "4. Faça uma função para calcular a velocidade (km/h) e que tenha como entrada a distância (em km) e o tempo (em horas).\n",
    "5. Modifique a função anterior, e acrescente dois novos parâmetros: `medida_dist` e `medida_tempo`. Por padrão os valores desses parâmetros deverão ser `'km'` e `'h'`. Porém, o usuário poderá escolher outros valores e a função deverá se adequar e retornar os valores corretos, caso o usuário escolha `m/h`, `m/s`, `km/h` e `km/s`. Se o usuário escolher outra medida, a função deverá alertá-lo."
   ]
  },
  {
   "attachments": {},
   "cell_type": "markdown",
   "metadata": {},
   "source": [
    "TODO:\n",
    "Subseção para falar mais sobre os parâmetros."
   ]
  },
  {
   "attachments": {},
   "cell_type": "markdown",
   "metadata": {},
   "source": [
    "-----\n",
    "\n",
    "## Módulos\n",
    "\n",
    "Um `módulo` em `Python` consiste em um conjunto de códigos escritos em um arquivo separado. No arquivo separado podem estar escritas funções, variáveis e classes. É a forma de se reutilizar código em `Python`.\n",
    "\n",
    "Suponha que temos um segundo arquivo chamado `teste.py`. Para utilizarmos o código escrito nele, podemos usar em nosso arquivo principal a seguinte sintaxe:\n",
    "\n",
    "```python\n",
    "import teste\n",
    "```\n",
    "\n",
    "Se quisermos utilizar uma função específica daquele módulo, utilizamos o ponto `.`:\n",
    "\n",
    "```python\n",
    "teste.nome()\n",
    "```\n",
    "\n",
    "Se quisermos importar funções específicas do módulo, podemos utilizar a seguinte sintaxe:\n",
    "\n",
    "```python\n",
    "from teste import nome, sobrenome\n",
    "```\n",
    "\n",
    "-----\n",
    "\n",
    "TODO:\n",
    "Pacotes"
   ]
  }
 ],
 "metadata": {
  "kernelspec": {
   "display_name": "Python 3",
   "language": "python",
   "name": "python3"
  },
  "language_info": {
   "codemirror_mode": {
    "name": "ipython",
    "version": 3
   },
   "file_extension": ".py",
   "mimetype": "text/x-python",
   "name": "python",
   "nbconvert_exporter": "python",
   "pygments_lexer": "ipython3",
   "version": "3.10.6"
  },
  "orig_nbformat": 4,
  "vscode": {
   "interpreter": {
    "hash": "916dbcbb3f70747c44a77c7bcd40155683ae19c65e1c03b4aa3499c5328201f1"
   }
  }
 },
 "nbformat": 4,
 "nbformat_minor": 2
}
