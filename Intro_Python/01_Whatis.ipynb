{
 "cells": [
  {
   "attachments": {},
   "cell_type": "markdown",
   "metadata": {},
   "source": [
    "# O que é Python?\n",
    "\n",
    "Python é uma linguagem de programação de [alto nível](https://pt.wikipedia.org/wiki/Linguagem_de_programa%C3%A7%C3%A3o#Quanto_ao_grau_de_abstra%C3%A7%C3%A3o) e de [propósito geral](https://pt.wikipedia.org/wiki/Linguagem_de_programa%C3%A7%C3%A3o_para_prop%C3%B3sitos_diversos). A linguagem enfatiza a `legibilidade de código` (*code readability*) e o uso de `identação significativa`. Já está há vários anos no top5 de linguagens de programação, como o [índice TIOBE](https://www.tiobe.com/tiobe-index/) e [PYPL](https://pypl.github.io/PYPL.html)."
   ]
  },
  {
   "attachments": {},
   "cell_type": "markdown",
   "metadata": {},
   "source": [
    "## História\n",
    "\n",
    "A linguagem foi concebida no fim da década de 80 por [Guido van Rossum](https://pt.wikipedia.org/wiki/Guido_van_Rossum) em um centro de pesquisa chamado [Centrum Wiskunde & Informatica](https://en.wikipedia.org/wiki/Centrum_Wiskunde_%26_Informatica), na Holanda (Países Baixos). O nome veio do programa de comédia da BBC *Monty Python's Flying Circus* (dá para assistir na Netflix).\n",
    "\n",
    "Sua primeira versão pública (0.9.1) veio em 20 de Fevereiro de 1991 (ou seja, a linguagem já tem **31 anos!!!**), e pode ser acessada clicando [aqui](https://www.tuhs.org/Usenet/alt.sources/1991-February/001749.html), ou [aqui](https://www.python.org/download/releases/early/).\n",
    "\n",
    "Em 1994 saiu a versão 1.0 com suporte, entre outras coisas, a números complexos e ferramentas de programação funcional. No ano seguinte, em 1995, seria lançada a linguagem de programação `Java`. Após o lançamento da versão 1.0, novas funcionalidades foram sendo adicionadas até sua versão 1.6.1, em Setembro de 2000. Se você quiser ter acesso a essas versões, basta clicar [aqui](https://www.python.org/download/releases/).\n",
    "\n",
    "### Python 2\n",
    "\n",
    "Em Outubro do ano 2000 foi lançada a versão 2.0 com mais *features*, tais quais a unificação de tipos de dados e classes e suporte para Unicode. É difícil encontrar (senão quase impossível) as notas de *release* dessas versões mais antigas. Em Abril de 2001 a versão 2.1 é lançada, mas em Junho do mesmo ano a versão 2.0.1 é lançada como a versão final de `bugfix` da 2.0. Na página de [download oficial](https://www.python.org/downloads/), é a versão mais antiga ainda disponível.\n",
    "\n",
    "Como se trata de uma linguagem `aberta` (`open source`), existe uma comunidade ativa que a desenvolve. Porém há uma organização que cuida da evolução, avanços e lançamentos oficiais da linguagem, a [*Python Software Foundation* (PSF)](https://www.python.org/psf-landing/). É possível que qualquer pessoa possa contribuir com a linguagem, através da reportação de bugs, sugestões, ou até mesmo com a adição de novas funcionalidades. Se você quiser se aprofundar mais nisso, basta acessar o [github oficial do python](https://github.com/python). \n",
    "\n",
    "Até Julho de 2018 era o próprio Rossum quem detinha a palavra final sobre o que seria integrado à linguagem, para cada novo lançamento. Ele era conhecido como o **BDFL** (*Benevolent Dictator For Life*, ou *Ditador Benevolente Vitalício*) do Python. Após sua \"aposentadoria\", a linguagem passa a ser \"governada\" por um conselho de 5 pessoas (mais detalhes no [PEP 8016](https://peps.python.org/pep-8016/)).\n",
    "\n",
    "O fato de ser uma linguagem `open source` faz com que várias versões da linguagem sejam utilizadas ao mesmo tempo. Cada nova versão consiste na correção de pequenos erros, bugs, e adição de poucas funcionalidades. Os lançamentos oficiais do Python 2 que podem ser encontrados no site oficial (em ordem de lançamento) são: 2.0.1, 2.2.0, 2.1.3, 2.2.1, 2.2.2, 2.2.3, 2.3.0, 2.3.1, 2.3.2, 2.3.3, 2.3.4, 2.4.0, 2.3.5, 2.4.1, 2.4.2, 2.4.3, 2.5.0, 2.4.4, 2.3.6, 2.5.1, 2.5.2, 2.3.7, 2.4.5, 2.6.0, 2.6.1, 2.5.3, 2.4.6, 2.5.4, 2.6.2, 2.6.3, 2.6.4, 2.5.5, 2.6.5, 2.7.0, 2.6.6, 2.7.1, 2.5.6, 2.6.7, 2.7.2, 2.7.3, 2.6.8, 2.7.4, 2.7.5, 2.6.9, 2.7.6, 2.7.7, 2.7.8, 2.7.9, 2.7.10, 2.7.11, 2.7.12, 2.7.13, 2.7.14, 2.7.15, 2.7.16, 2.7.17, 2.7.18, sendo esta última lançada em Abril de 2020, e o fim do suporte à versão 2.\n",
    "\n",
    "### Python 3\n",
    "\n",
    "Retornando ao histórico da linguagem, ao fim de 2008 é lançado oficialmente o Python 3.0. Você pode se perguntar agora: como que o Python 3 é lançado em 2008 e tem versão do Python 2 até 2020? O início da resposta é que a partir da metade da década de 2000, a linguagem se tornou bastante utilizada não só por entusiastas como também por várias corporações (pequenas e grandes), ou seja, a linguagem está no cerne de grandes projetos de software. A resposta é complementada pelo fato de que o Python 3 é incompatível com o Python 2. Portanto, sistemas inteiros feitos em Python 2 não podiam simplesmente migrar para o Python 3. Se já é trabalhoso migrar para uma versão mais nova dentro do Python 2 (da 2.4 para 2.5, por exemplo), imagina migrar para a versão 3. \n",
    "\n",
    "As novidades implementadas no Python 3 podem ser acessadas [aqui](https://docs.python.org/3.0/whatsnew/3.0.html).\n",
    "\n",
    "A chegada do Python 3 coincidiu com o advento de três grandes eventos: (1) o crescimento de aplicações web, (2) o crescimento exponencial de `Data Science`, e (3) o boom de surgimento de ferramentas de Inteligência Artificial. A facilidade de sua sintaxe em conjunto com o tamanho da comunidade, `frameworks` e a quantidade de `bibliotecas` fez com que o Python estivesse no \"local certo, na hora certa\". Outra contribuição para o \"estouro\" da linguagem foi o apoio direto da Google, uma vez que seu fundador trabalhava lá. Além da Google, a Bloomberg é também creditada como `Patrocinadora Visionária`. No site da PSF é possível ver todos os demais [patrocinadores da linguagem Python](https://www.python.org/psf/sponsors/), em que estão inclusos NVidia, Microsoft, AWS, Red Hat, IBM, entre outros.\n",
    "\n",
    "Como exemplos para o primeiro grande evento temos [Django](https://www.djangoproject.com/) e [Flask](https://flask.palletsprojects.com/en/2.2.x/). O Django é um `framework web` cujo objetivo é facilitar a criação de sites complexos e voltados a dados. O Instagram, por exemplo, utiliza o Django. O Flask é classificado como um `microframework`, também voltado para web. Como exemplo de aplicação que utiliza o Flask, temos o Linkedin.\n",
    "\n",
    "O crescimento das aplicações web teve como uma de suas consequências a geração massiva de dados, os quais podem ser minerados e analisados com técnicas e algoritmos de IA e Aprendizagem de Máquina. A partir de então surgiram, ou se destacaram as bibliotecas [NumPy](https://numpy.org), [Matplotlib](https://matplotlib.org), [SciPy](https://scipy.org), [Scikit-learn](https://scikit-learn.org) e [Pandas](https://pandas.pydata.org).\n",
    "\n",
    "Além de `Data Science`, um dos \"principais estouros\" da Inteligência Artificial na década de 2010 é o sucesso da utilização de `Deep Learning`, para o qual foram criados o [TensorFlow](https://tensorflow.org), [PyTorch](https://pytorch.org) e [Keras](https://keras.io), por exemplo. A partir de então, foram criados algoritmos capazes de identificar vários, senão todos, dos elementos de imagens e vídeos, como também capazes de aprender e reproduzir com fidelidade vozes, feições e trejeitos humanos. Os algoritmos passaram a ser capazes de também aprender mais sobre contextos (de imagens, vídeos e textos), o suficente para reproduzir e criar ambientes virtuais de forma mais rápida e realista.\n",
    "\n",
    "<div>\n",
    "    <img src=\"/Intro_Python/timeline.jpg\" alt=\"Timeline da linguagem Python\" title=\"fonte: https://www.geeksforgeeks.org/history-of-python\" align=\"center\">\n",
    "</div>"
   ]
  },
  {
   "attachments": {},
   "cell_type": "markdown",
   "metadata": {},
   "source": [
    "## Algumas desvantagens\n",
    "\n",
    "Da mesma forma que o Python 2 tem múltiplas versões, o Python 3 também tem suas múltiplas versões. A última lançada (durante a escrita deste texto) é a 3.11.1. Migrar de uma versão para outra (da 3.10 para 3.11, por exemplo) continua trabalhoso. O conserto de vários bugs, e também as poucas adições de *features* contribuem para essa dificuldade. Porém existe outro fator que contribui bastante para isso: as bibliotecas.\n",
    "\n",
    "As bibliotecas utilizadas em Python são um conjunto de ferramentas que não são desenvolvidas oficialmente pelos desenvolvedores da linguagem. Elas servem como meios para facilitar e acelerar o desenvolvimento em várias áreas e situações (lembremos que o Python é uma linguagem de propósito geral). Ao seguir a filosofia da linguagem, as bibliotecas são, também, programas de código aberto e, portanto, possuem várias versões que são utilizadas ao mesmo tempo. E várias versões podem ser incompatíveis entre si.\n",
    "\n",
    "Grandes projetos de software utilizam, além das ferramentas básicas da linguagem, as ferramentas disponibilizadas pelas bilbiotecas. E as bilbiotecas, dependendo da situação, utilizam em seu cerne outras bilbiotecas. Isso gera uma cadeia de dependências bastante frágil. Isso porque basta uma única bilbioteca ser atualizada para que o projeto inteiro entre em colapso, pois um conjunto de outras bibliotecas não suportam a versão nova e ao gerarem erro, o erro é propagado.\n",
    "\n",
    "Outra desvantagem do Python é sua tipagem dinâmica. Ao se declarar uma variável em Python, o programador não precisa estabelecer de antemão o tipo daquela variável, ou seja, se ela é `int`, `float`, etc. O interpretador da linguagem se encarrega de entender o tipo da variável. Se, em algum momento do código a mesma variável tiver seu tipo trocado, o interpretador vai entender e trocar o tipo. Porém, há casos em que o desenvolvedor não queria que o tipo fosse trocado, ou trocou sem querer. Esse deslize pode causar um erro no programa ou gerar inconsistências. Essa desvantagem se evidencia em projetos de maior porte, pois a quantidade de linhas de código faz com que seja muito fácil deixar passar deslizes como esse, fazendo com que a equipe tenha de perder algum tempo até entender a origem do problema.\n",
    "\n",
    "Além disso, a tipagem dinâmica gera uma segunda desvantagem. Uma vez que o interpretador verifica o tipo da variável durante a execução, o desempenho do software fica pior, ou seja, a execução se torna mais lenta.\n",
    "\n",
    "E falando em lentidão, o Python é reconhedio como uma linguagem bastante lenta em relação as outras. Isto faz com que, em situações onde o desempenho é necessário, a linguagem é utilizada basicamente como uma interface, enquanto o algoritmo em si é escrito em C, ou C++."
   ]
  }
 ],
 "metadata": {
  "kernelspec": {
   "display_name": "Python 3",
   "language": "python",
   "name": "python3"
  },
  "language_info": {
   "name": "python",
   "version": "3.10.6 (main, Nov 14 2022, 16:10:14) [GCC 11.3.0]"
  },
  "orig_nbformat": 4,
  "vscode": {
   "interpreter": {
    "hash": "916dbcbb3f70747c44a77c7bcd40155683ae19c65e1c03b4aa3499c5328201f1"
   }
  }
 },
 "nbformat": 4,
 "nbformat_minor": 2
}
