{
 "cells": [
  {
   "attachments": {},
   "cell_type": "markdown",
   "metadata": {},
   "source": [
    "# Controle de fluxo\n",
    "\n",
    "O fluxo de um programa pode ser controlado/manipulado a partir de `blocos e comandos de controle` e `blocos de repetição`.\n",
    "\n",
    "## Blocos de Controle\n",
    "\n",
    "O `bloco de controle` mais conhecido é o `if-else`. Sua estrutura é da seguinte forma:\n",
    "\n",
    "```python\n",
    "if condição:\n",
    "    comandos\n",
    "elif condição:\n",
    "    comandos\n",
    "else:\n",
    "    comandos\n",
    "```\n",
    "\n",
    "O que você 'está dizendo' a um programa é que ele deve executar uma série de comandos *se* determinada condição for verdadeira, *senão* outros comandos devem ser executados. Com o `elif` (contração de `else`+`if`) você pode testar outras condições para que outros comandos sejam executados.\n",
    "\n",
    "É importante notar o `:` após a condição. É esse símbolo o \"responsável\" por iniciar o bloco. E lembrando da primeira aula, em `Python` a identação é `significativa`. Isso pode ser percebido pelo fato de que todos os comandos que devem estar dentro de um bloco começam a ser escritos com após um espaço em branco. Você pode utilizar a tecla `tab` para essa identação. Algumas IDEs reconhecem o início do bloco e fazem esse espaçamento automaticamente."
   ]
  },
  {
   "cell_type": "code",
   "execution_count": 1,
   "metadata": {},
   "outputs": [
    {
     "name": "stdout",
     "output_type": "stream",
     "text": [
      "Maior de idade\n"
     ]
    }
   ],
   "source": [
    "idade = 18\n",
    "\n",
    "if idade >= 18:\n",
    "    print(\"Maior de idade\")\n",
    "else:\n",
    "    print(\"Menor de idade\")"
   ]
  },
  {
   "cell_type": "code",
   "execution_count": 3,
   "metadata": {},
   "outputs": [
    {
     "name": "stdout",
     "output_type": "stream",
     "text": [
      "Você é adolescente\n"
     ]
    }
   ],
   "source": [
    "# Quando usamos a função input, lemos um valor do tipo String. Quando usamos o int(x), o valor de x será convertido para um valor do tipo int.\n",
    "# Esse tipo de ação é conhecida como 'parse', onde você 'transforma' um tipo de valor em outro.\n",
    "idade = int(input(\"Digite sua idade: \"))\n",
    "\n",
    "if idade < 12:\n",
    "    print(\"Você é pré-adolescente\")\n",
    "elif idade >= 12 and idade < 18:\n",
    "    print(\"Você é adolescente\")\n",
    "elif idade >= 18 and idade < 28:\n",
    "    print(\"Você é jovem\")\n",
    "elif idade >= 28 and idade < 34:\n",
    "    print(\"Você é um jovem-adulto\")\n",
    "elif idade >= 34 and idade < 40:\n",
    "    print(\"Você é adulto\")\n",
    "else:\n",
    "    print(\"Você já está velho mesmo\")"
   ]
  },
  {
   "attachments": {},
   "cell_type": "markdown",
   "metadata": {},
   "source": [
    "Dependendo da situação, você quer comparar uma variável a múltiplos valores específicos, os quais deverão conduzir o programa a um conjunto de instruções. Em outras linguagens esse bloco é conhecido como `switch-case`. Em `Python` esse bloco é definido como `match`."
   ]
  },
  {
   "cell_type": "code",
   "execution_count": 7,
   "metadata": {},
   "outputs": [
    {
     "name": "stdout",
     "output_type": "stream",
     "text": [
      "Que dia foi isso?\n"
     ]
    }
   ],
   "source": [
    "status = 407\n",
    "\n",
    "match status:\n",
    "    case 400:\n",
    "        print(\"Bad request\")\n",
    "    case 401 | 403: # testando múltiplos valores com o símbolo para 'or'\n",
    "        print(\"Not allowed\")\n",
    "    case 404:\n",
    "        print(\"Not found\")\n",
    "    case 425:\n",
    "        print(\"Tá de bincation uite me?\")\n",
    "    case _: # cláusula 'coringa', o equivalente a 'default' em outras linguagens\n",
    "        print(\"Que dia foi isso?\")\n"
   ]
  },
  {
   "attachments": {},
   "cell_type": "markdown",
   "metadata": {},
   "source": [
    "### Exercícios\n",
    "\n",
    "1. Escreva um programa para uma boate que leia a idade do usuário. Se o usuário for maior de idade o programa deverá informar que pode entrar na boate, senão deve informar ao usuário que, por ser menor de idade, não pode entrar.\n",
    "2. Escreva um programa para um brinquedo de parque que leia a altura do usuário em `metros`. Caso a altura do usuário for menor que 1.65 ou maior que 1.85, infelizmente não poderá entrar naquele brinquedo.\n",
    "3. Pesquise como se calcula o IMC e depois crie um programa que leia o peso do usuário e retorne seu índice de massa corporal.\n",
    "4. Pesquise pelos códigos do protocolo HTTP e faça um bloco `match` para retornar ao usuário a mensagem correta, de acordo com o código informado.\n",
    "5. Faça um código com o bloco `match` que retorne ao usuário se o valor digitado é par ou ímpar."
   ]
  },
  {
   "attachments": {},
   "cell_type": "markdown",
   "metadata": {},
   "source": [
    "-----\n",
    "\n",
    "## Blocos de repetição\n",
    "\n",
    "Os dois blocos de repetição mais conhecidos são o `while` e o `for`. As sintaxes são da seguinte forma:\n",
    "\n",
    "```python\n",
    "while condição:\n",
    "    comandos\n",
    "\n",
    "for variável in valores:\n",
    "    comandos\n",
    "```\n",
    "\n",
    "O bloco `while`, de forma similar ao `if`, testa uma condição e caso seja verdadeira (`true`) vai executar os comandos que estão dentro do bloco. É importante notar que, como se trata de bloco de repetição, após a execução do último comando do bloco, a condição será testada novamente. Portanto, se a condição não tiver como ser tornada falsa em algum momento o bloco `while` pode fazer com que o programa fique preso em um `loop infinito`.\n",
    "\n",
    "O bloco `for` faz uma `iteração` sobre um conjunto de elementos, seja uma faixa de valores, seja uma lista. Para utilizar o `for` como um iterador de *n* passos, é possível utilizar a função `range`, a qual retorna uma lista de valores."
   ]
  },
  {
   "cell_type": "code",
   "execution_count": 8,
   "metadata": {},
   "outputs": [
    {
     "name": "stdout",
     "output_type": "stream",
     "text": [
      "Você tem  0  anos, é menor de idade\n",
      "Você tem  2  anos, é menor de idade\n",
      "Você tem  4  anos, é menor de idade\n",
      "Você tem  6  anos, é menor de idade\n",
      "Você tem  8  anos, é menor de idade\n",
      "Você tem  10  anos, é menor de idade\n",
      "Você tem  12  anos, é menor de idade\n",
      "Você tem  14  anos, é menor de idade\n",
      "Você tem  16  anos, é menor de idade\n"
     ]
    }
   ],
   "source": [
    "idade = 0\n",
    "\n",
    "while idade < 18:\n",
    "    print(\"Você tem \",idade,\" anos, é menor de idade\")\n",
    "    idade += 2"
   ]
  },
  {
   "cell_type": "code",
   "execution_count": 9,
   "metadata": {},
   "outputs": [
    {
     "name": "stdout",
     "output_type": "stream",
     "text": [
      "0\n",
      "1\n",
      "2\n",
      "3\n",
      "4\n",
      "5\n",
      "6\n",
      "7\n",
      "8\n",
      "9\n"
     ]
    }
   ],
   "source": [
    "for i in range(10):\n",
    "    print(i)"
   ]
  },
  {
   "cell_type": "code",
   "execution_count": 10,
   "metadata": {},
   "outputs": [
    {
     "name": "stdout",
     "output_type": "stream",
     "text": [
      "5\n",
      "6\n",
      "7\n",
      "8\n",
      "9\n"
     ]
    }
   ],
   "source": [
    "for i in range(5,10):\n",
    "    print(i)"
   ]
  },
  {
   "cell_type": "code",
   "execution_count": 11,
   "metadata": {},
   "outputs": [
    {
     "name": "stdout",
     "output_type": "stream",
     "text": [
      "2\n",
      "4\n",
      "6\n",
      "8\n"
     ]
    }
   ],
   "source": [
    "for i in range(2, 10, 2):\n",
    "    print(i)"
   ]
  },
  {
   "cell_type": "code",
   "execution_count": 12,
   "metadata": {},
   "outputs": [
    {
     "name": "stdout",
     "output_type": "stream",
     "text": [
      "1\n",
      "2\n",
      "3\n",
      "[4, 5]\n",
      "6\n",
      "[7, 8, 9]\n",
      "10\n"
     ]
    }
   ],
   "source": [
    "num = [1, 2, 3, [4, 5], 6, [7, 8, 9], 10]\n",
    "\n",
    "for i in num:\n",
    "    print(i)"
   ]
  },
  {
   "attachments": {},
   "cell_type": "markdown",
   "metadata": {},
   "source": [
    "### Exercícios\n",
    "\n",
    "1. Usando `while` leia os elementos de uma lista e imprima os números, um por um, enquanto nenhum for ímpar.\n",
    "2. Faça um programa que adicione elementos a uma lista de 2 elementos, enquanto a lista tiver menos de 20 elementos.\n",
    "3. Faça um programa usando `for` que verifique os números de 1 a 30 e diga se o número é par ou ímpar.\n",
    "4. Leia uma frase do usuário e, usando `while`, imprima uma letra por vez.\n",
    "5. Crie um programa que leia 5 números digitados pelo usuário e depois retorne sua média aritmética."
   ]
  },
  {
   "attachments": {},
   "cell_type": "markdown",
   "metadata": {},
   "source": [
    "-----\n",
    "\n",
    "## Funções\n",
    "\n",
    "`Python` permite que funções e procedimentos sejam criados. Isso permite aos programadores que várias linhas de código possam ser reutilizadas sem necessitarem ser reescritas. A sintaxe é como segue:\n",
    "\n",
    "```python\n",
    "def nome(parâmetros):\n",
    "    comandos\n",
    "```\n",
    "\n",
    "Para declarar a função, ou procedimento, é necessária a utilização da palavra reservada `def`. Após a palavra reservada deve ser definida o nome da função e, entre parênteses os parâmetros."
   ]
  },
  {
   "cell_type": "code",
   "execution_count": 13,
   "metadata": {},
   "outputs": [
    {
     "name": "stdout",
     "output_type": "stream",
     "text": [
      "A soma é:  30\n",
      "A subtração é:  -10\n"
     ]
    }
   ],
   "source": [
    "def soma(a, b):\n",
    "    return a+b\n",
    "\n",
    "def sub(a, b):\n",
    "    return a-b\n",
    "\n",
    "num1 = int(input(\"Digite o primeiro número: \"))\n",
    "num2 = int(input(\"Digite o segundo número: \"))\n",
    "\n",
    "print(\"A soma é: \", soma(num1,num2))\n",
    "print(\"A subtração é: \", sub(num1, num2))"
   ]
  },
  {
   "cell_type": "code",
   "execution_count": 14,
   "metadata": {},
   "outputs": [
    {
     "name": "stdout",
     "output_type": "stream",
     "text": [
      "Colabora Parceiro\n",
      "Colabora Parceiro\n"
     ]
    },
    {
     "data": {
      "text/plain": [
       "True"
      ]
     },
     "execution_count": 14,
     "metadata": {},
     "output_type": "execute_result"
    }
   ],
   "source": [
    "# Função com um parâmetro obrigatório e 2 parâmetros opcionais\n",
    "def pode_ou_nao(pergunta, tentativas=4, alerta='Colabora Parceiro'):\n",
    "    while True:\n",
    "        ok = input(pergunta)\n",
    "        if ok in ('s', 'sim', 'claro'):\n",
    "            return True\n",
    "        if ok in ('n', 'não', 'nem', 'claro que não'):\n",
    "            return False\n",
    "        tentativas -= 1\n",
    "        if tentativas < 0:\n",
    "            raise ValueError('Resposta Inválida')\n",
    "        print(alerta)\n",
    "\n",
    "pode_ou_nao(\"Você deseja sair do programa?\")"
   ]
  },
  {
   "attachments": {},
   "cell_type": "markdown",
   "metadata": {},
   "source": [
    "### Exercícios\n",
    "\n",
    "1. Faça uma função que calcule o fatorial de um número qualquer.\n",
    "2. Faça uma função que imprima a sequência de Fibonacci para *n* termos.\n",
    "3. Faça uma função que retorne o quadrado de qualquer número digitado pelo usuário.\n",
    "4. Faça uma função para calcular a velocidade (km/h) e que tenha como entrada a distância (em km) e o tempo (em horas).\n",
    "5. Modifique a função anterior, e acrescente dois novos parâmetros: `medida_dist` e `medida_tempo`. Por padrão os valores desses parâmetros deverão ser `'km'` e `'h'`. Porém, o usuário poderá escolher outros valores e a função deverá se adequar e retornar os valores corretos, caso o usuário escolha `m/h`, `m/s`, `km/h` e `km/s`. Se o usuário escolher outra medida, a função deverá alertá-lo."
   ]
  }
 ],
 "metadata": {
  "kernelspec": {
   "display_name": "Python 3",
   "language": "python",
   "name": "python3"
  },
  "language_info": {
   "codemirror_mode": {
    "name": "ipython",
    "version": 3
   },
   "file_extension": ".py",
   "mimetype": "text/x-python",
   "name": "python",
   "nbconvert_exporter": "python",
   "pygments_lexer": "ipython3",
   "version": "3.10.6"
  },
  "orig_nbformat": 4,
  "vscode": {
   "interpreter": {
    "hash": "916dbcbb3f70747c44a77c7bcd40155683ae19c65e1c03b4aa3499c5328201f1"
   }
  }
 },
 "nbformat": 4,
 "nbformat_minor": 2
}
