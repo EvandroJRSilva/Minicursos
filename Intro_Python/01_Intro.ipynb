{
 "cells": [
  {
   "attachments": {},
   "cell_type": "markdown",
   "metadata": {},
   "source": [
    "# Minicurso Introdução a Python\n",
    "\n",
    "Sumário:\n",
    "\n",
    "* [O que é Python](#o-que-é-python)\n",
    "* [História](#história)\n",
    "  * [Python 2](#python-2)\n",
    "  * [Python 3](#python-3)\n",
    "* [Vantagens e Desvantagens](#vantagens-e-desvantages)\n",
    "  * [Desvantagens](#desvantagens)\n",
    "* [Instalando o Python](#instalando-o-python)\n",
    "* [Como Programar em Python](#como-programar-em-python)\n",
    "* [Operadores](#operadores)\n",
    "  * [Operadores Artiméticos](#operadores-aritméticos)\n",
    "  * [Operadores de Atritbuição](#operadores-de-atribuição)\n",
    "  * [Operadores Relacionais](#operadores-relacionais)\n",
    "  * [Operadores Lógicos](#operadores-lógicos)\n",
    "  * [Operadores de Pertencimento](#operadores-de-pertencimento)\n",
    "  * [Operadores de Identidade](#operadores-de-identidade)\n",
    "  * [Operadores Binários](#operadores-binários)"
   ]
  },
  {
   "attachments": {},
   "cell_type": "markdown",
   "metadata": {},
   "source": [
    "-----\n",
    "\n",
    "## O que é Python?\n",
    "\n",
    "Python é uma linguagem de programação de [alto nível](https://pt.wikipedia.org/wiki/Linguagem_de_programa%C3%A7%C3%A3o#Quanto_ao_grau_de_abstra%C3%A7%C3%A3o) e de [propósito geral](https://pt.wikipedia.org/wiki/Linguagem_de_programa%C3%A7%C3%A3o_para_prop%C3%B3sitos_diversos). A linguagem enfatiza a `legibilidade de código` (*code readability*) e o uso de `identação significativa`. Já está há vários anos no top5 de linguagens de programação, como o [índice TIOBE](https://www.tiobe.com/tiobe-index/) e [PYPL](https://pypl.github.io/PYPL.html)."
   ]
  },
  {
   "attachments": {},
   "cell_type": "markdown",
   "metadata": {},
   "source": [
    "-----\n",
    "\n",
    "## História\n",
    "\n",
    "A linguagem foi concebida no fim da década de 80 por [Guido van Rossum](https://pt.wikipedia.org/wiki/Guido_van_Rossum) em um centro de pesquisa chamado [Centrum Wiskunde & Informatica](https://en.wikipedia.org/wiki/Centrum_Wiskunde_%26_Informatica), na Holanda (Países Baixos). O nome veio do programa de comédia da BBC *Monty Python's Flying Circus* (dá para assistir na Netflix).\n",
    "\n",
    "Sua primeira versão pública (0.9.1) veio em 20 de Fevereiro de 1991 (ou seja, a linguagem já tem **31 anos!!!**), e pode ser acessada clicando [aqui](https://www.tuhs.org/Usenet/alt.sources/1991-February/001749.html), ou [aqui](https://www.python.org/download/releases/early/).\n",
    "\n",
    "Em 1994 saiu a versão 1.0 com suporte, entre outras coisas, a números complexos e ferramentas de programação funcional. No ano seguinte, em 1995, seria lançada a linguagem de programação `Java`. Após o lançamento da versão 1.0, novas funcionalidades foram sendo adicionadas até sua versão 1.6.1, em Setembro de 2000. Se você quiser ter acesso a essas versões, basta clicar [aqui](https://www.python.org/download/releases/).\n",
    "\n",
    "### Python 2\n",
    "\n",
    "Em Outubro do ano 2000 foi lançada a versão 2.0 com mais *features*, tais quais a unificação de tipos de dados e classes e suporte para Unicode. É difícil encontrar (senão quase impossível) as notas de *release* dessas versões mais antigas. Em Abril de 2001 a versão 2.1 é lançada, mas em Junho do mesmo ano a versão 2.0.1 é lançada como a versão final de `bugfix` da 2.0. Na página de [download oficial](https://www.python.org/downloads/), é a versão mais antiga ainda disponível.\n",
    "\n",
    "Como se trata de uma linguagem `aberta` (`open source`), existe uma comunidade ativa que a desenvolve. Porém há uma organização que cuida da evolução, avanços e lançamentos oficiais da linguagem, a [*Python Software Foundation* (PSF)](https://www.python.org/psf-landing/). É possível que qualquer pessoa possa contribuir com a linguagem, através da reportação de bugs, sugestões, ou até mesmo com a adição de novas funcionalidades. Se você quiser se aprofundar mais nisso, basta acessar o [github oficial do python](https://github.com/python). \n",
    "\n",
    "Até Julho de 2018 era o próprio Rossum quem detinha a palavra final sobre o que seria integrado à linguagem, para cada novo lançamento. Ele era conhecido como o **BDFL** (*Benevolent Dictator For Life*, ou *Ditador Benevolente Vitalício*) do Python. Após sua \"aposentadoria\", a linguagem passa a ser \"governada\" por um conselho de 5 pessoas (mais detalhes no [PEP 8016](https://peps.python.org/pep-8016/)).\n",
    "\n",
    "O fato de ser uma linguagem `open source` faz com que várias versões da linguagem sejam utilizadas ao mesmo tempo. Cada nova versão consiste na correção de pequenos erros, bugs, e adição de poucas funcionalidades. Os lançamentos oficiais do Python 2 que podem ser encontrados no site oficial (em ordem de lançamento) são: 2.0.1, 2.2.0, 2.1.3, 2.2.1, 2.2.2, 2.2.3, 2.3.0, 2.3.1, 2.3.2, 2.3.3, 2.3.4, 2.4.0, 2.3.5, 2.4.1, 2.4.2, 2.4.3, 2.5.0, 2.4.4, 2.3.6, 2.5.1, 2.5.2, 2.3.7, 2.4.5, 2.6.0, 2.6.1, 2.5.3, 2.4.6, 2.5.4, 2.6.2, 2.6.3, 2.6.4, 2.5.5, 2.6.5, 2.7.0, 2.6.6, 2.7.1, 2.5.6, 2.6.7, 2.7.2, 2.7.3, 2.6.8, 2.7.4, 2.7.5, 2.6.9, 2.7.6, 2.7.7, 2.7.8, 2.7.9, 2.7.10, 2.7.11, 2.7.12, 2.7.13, 2.7.14, 2.7.15, 2.7.16, 2.7.17, 2.7.18, sendo esta última lançada em Abril de 2020, e o fim do suporte à versão 2.\n",
    "\n",
    "### Python 3\n",
    "\n",
    "Retornando ao histórico da linguagem, ao fim de 2008 é lançado oficialmente o Python 3.0. Você pode se perguntar agora: como que o Python 3 é lançado em 2008 e tem versão do Python 2 até 2020? O início da resposta é que a partir da metade da década de 2000, a linguagem se tornou bastante utilizada não só por entusiastas como também por várias corporações (pequenas e grandes), ou seja, a linguagem está no cerne de grandes projetos de software. A resposta é complementada pelo fato de que o Python 3 é incompatível com o Python 2. Portanto, sistemas inteiros feitos em Python 2 não podiam simplesmente migrar para o Python 3. Se já é trabalhoso migrar para uma versão mais nova dentro do Python 2 (da 2.4 para 2.5, por exemplo), imagina migrar para a versão 3. \n",
    "\n",
    "As novidades implementadas no Python 3 podem ser acessadas [aqui](https://docs.python.org/3.0/whatsnew/3.0.html).\n",
    "\n",
    "A chegada do Python 3 coincidiu com o advento de três grandes eventos: (1) o crescimento de aplicações web, (2) o crescimento exponencial de `Data Science`, e (3) o boom de surgimento de ferramentas de Inteligência Artificial. A facilidade de sua sintaxe em conjunto com o tamanho da comunidade, `frameworks` e a quantidade de `bibliotecas` fez com que o Python estivesse no \"local certo, na hora certa\". Outra contribuição para o \"estouro\" da linguagem foi o apoio direto da Google, uma vez que seu fundador trabalhava lá. Além da Google, a Bloomberg é também creditada como `Patrocinadora Visionária`. No site da PSF é possível ver todos os demais [patrocinadores da linguagem Python](https://www.python.org/psf/sponsors/), em que estão inclusos NVidia, Microsoft, AWS, Red Hat, IBM, entre outros.\n",
    "\n",
    "Como exemplos para o primeiro grande evento temos [Django](https://www.djangoproject.com/) e [Flask](https://flask.palletsprojects.com/en/2.2.x/). O Django é um `framework web` cujo objetivo é facilitar a criação de sites complexos e voltados a dados. O Instagram, por exemplo, utiliza o Django. O Flask é classificado como um `microframework`, também voltado para web. Como exemplo de aplicação que utiliza o Flask, temos o Linkedin.\n",
    "\n",
    "O crescimento das aplicações web teve como uma de suas consequências a geração massiva de dados, os quais podem ser minerados e analisados com técnicas e algoritmos de IA e Aprendizagem de Máquina. A partir de então surgiram, ou se destacaram as bibliotecas [NumPy](https://numpy.org), [Matplotlib](https://matplotlib.org), [SciPy](https://scipy.org), [Scikit-learn](https://scikit-learn.org) e [Pandas](https://pandas.pydata.org).\n",
    "\n",
    "Além de `Data Science`, um dos \"principais estouros\" da Inteligência Artificial na década de 2010 é o sucesso da utilização de `Deep Learning`, para o qual foram criados o [TensorFlow](https://tensorflow.org), [PyTorch](https://pytorch.org) e [Keras](https://keras.io), por exemplo. A partir de então, foram criados algoritmos capazes de identificar vários, senão todos, dos elementos de imagens e vídeos, como também capazes de aprender e reproduzir com fidelidade vozes, feições e trejeitos humanos. Os algoritmos passaram a ser capazes de também aprender mais sobre contextos (de imagens, vídeos e textos), o suficente para reproduzir e criar ambientes virtuais de forma mais rápida e realista."
   ]
  },
  {
   "attachments": {},
   "cell_type": "markdown",
   "metadata": {},
   "source": [
    "-----\n",
    "\n",
    "## Vantagens e Desvantages\n",
    "\n",
    "TODO: Vantagens\n",
    "\n",
    "### Desvantagens\n",
    "\n",
    "Da mesma forma que o Python 2 tem múltiplas versões, o Python 3 também tem suas múltiplas versões. A última lançada (durante a escrita deste texto) é a 3.11.1. Migrar de uma versão para outra (da 3.10 para 3.11, por exemplo) continua trabalhoso. O conserto de vários bugs, e também as poucas adições de *features* contribuem para essa dificuldade. Porém existe outro fator que contribui bastante para isso: as bibliotecas.\n",
    "\n",
    "As bibliotecas utilizadas em Python são um conjunto de ferramentas que não são desenvolvidas oficialmente pelos desenvolvedores da linguagem. Elas servem como meios para facilitar e acelerar o desenvolvimento em várias áreas e situações (lembremos que o Python é uma linguagem de propósito geral). Ao seguir a filosofia da linguagem, as bibliotecas são, também, programas de código aberto e, portanto, possuem várias versões que são utilizadas ao mesmo tempo. E várias versões podem ser incompatíveis entre si.\n",
    "\n",
    "Grandes projetos de software utilizam, além das ferramentas básicas da linguagem, as ferramentas disponibilizadas pelas bilbiotecas. E as bilbiotecas, dependendo da situação, utilizam em seu cerne outras bilbiotecas. Isso gera uma cadeia de dependências bastante frágil. Isso porque basta uma única bilbioteca ser atualizada para que o projeto inteiro entre em colapso, pois um conjunto de outras bibliotecas não suportam a versão nova e ao gerarem erro, o erro é propagado.\n",
    "\n",
    "Outra desvantagem do Python é sua tipagem dinâmica. Ao se declarar uma variável em Python, o programador não precisa estabelecer de antemão o tipo daquela variável, ou seja, se ela é `int`, `float`, etc. O interpretador da linguagem se encarrega de entender o tipo da variável. Se, em algum momento do código a mesma variável tiver seu tipo trocado, o interpretador vai entender e trocar o tipo. Porém, há casos em que o desenvolvedor não queria que o tipo fosse trocado, ou trocou sem querer. Esse deslize pode causar um erro no programa ou gerar inconsistências. Essa desvantagem se evidencia em projetos de maior porte, pois a quantidade de linhas de código faz com que seja muito fácil deixar passar deslizes como esse, fazendo com que a equipe tenha de perder algum tempo até entender a origem do problema.\n",
    "\n",
    "Além disso, a tipagem dinâmica gera uma segunda desvantagem. Uma vez que o interpretador verifica o tipo da variável durante a execução, o desempenho do software fica pior, ou seja, a execução se torna mais lenta.\n",
    "\n",
    "E falando em lentidão, o Python é reconhedio como uma linguagem bastante lenta em relação as outras. Isto faz com que, em situações onde o desempenho é necessário, a linguagem é utilizada basicamente como uma interface, enquanto o algoritmo em si é escrito em C, ou C++.\n",
    "\n",
    "-----\n",
    "\n",
    "## Instalando o Python\n",
    "\n",
    "Se você é usuário de `Linux` o `Python` já deve estar instalado em sua máquina. Para descobrir, basta abrir o terminal (`ctrl+alt+t`) e digitar `python` ou `pyhthon3`. Assim que você pressionar o `enter` e o comando for reconhecido e executado, um `shell` do python ficará disponível para você utilizá-lo.\n",
    "\n",
    "Entretanto, a maioria de vocês é possivelmente usuário de `Windows`. Neste caso, é bem provável que o `Python` não esteja instalado. O que fazer?\n",
    "\n",
    "O primeiro passo é acessar o site oficial da linguagem: [python.org](https://python.org). É no site oficial onde você vai encontrar as versões oficiais, além da documentação e vários guias.\n",
    "\n",
    "Na aba `Downloads` você encontrará todas as versões oficialmente disponíveis, desde `2.0.1` até a mais atual `3.11.1`. Você deverá procurar pela versão que você quer e baixar o instalador para Windows.\n",
    "\n",
    "> Note que é possível ter mais de uma versão do `Python` instalada. Ou seja, é possível que você tenha a versão `3.11` e a `3.10` ao mesmo tempo. Cada versão instalada é independente.\n",
    "\n",
    "Após baixar a versão que você quer, basta executar o instalador (recomendo marcar a opção de já incluir a linguagem no `path`). No `Windows`, além do `interpretador`, serão instalados outros componentes, como um programa `shell` separado que você pode abrir, chamado `IDLE`. Porém, se você quiser ser um pouco mais como um usuário do `Linux`, você pode abrir o `prompt de comando` e digitar `python` ou `pyhthon3`. Se o comando não foi reconhecido, é provável que você não tenha marcado a opção de incluir a linguagem na variável `path`.\n",
    "\n",
    "Essa é uma variável de ambiente do Windows, e ao adicionar nela o caminho do executável da linguagem, seus comandos passam a ser reconhecidos via linha de comando.\n",
    "\n",
    "-----\n",
    "\n",
    "## Como programar em Python\n",
    "\n",
    "Para programar da maneira *raiz*, basta um editor de texto simples como o `Bloco de Notas`, desde que o arquivo seja salvo com a extensão `.py`. Para executar basta escrever no `prompt de comando`: `python3 CAMINHO/DO/ARQUIVO/arquivo.py`. Se no prompt você já estiver na pasta onde o arquivo está salvo, então basta escrever `python3 arquivo.py`.\n",
    "\n",
    "Porém, existem outros editores de texto e até IDEs que facilitam a escrita do código em Python. O editor de código mais conhecido para isso é o `VS Code`, o qual necessita que algumas extensões para o `Python` sejam instaladas. É bastante fácil de encontrar essas extensões. A IDE mais conhecida para programação em Python é o `PyCharm`. Como é uma IDE específica para a linguagem, existem vários recursos nativos muito bons. O `PyCharm` tem a versão da `comunidade`, gratuita e com menos recursos, e a versão paga e, por isso, completa.\n",
    "\n",
    "Também é possível utilizar um `Notebook`, como o `Jupyter Notebook`, o qual permite você misturar `markdown` e `código` no mesmo arquivo.\n",
    "\n",
    "-----\n",
    "\n",
    "## Operadores\n",
    "\n",
    "O `Python` possui 7 tipos de operadores:\n",
    "\n",
    "* Aritméticos;\n",
    "* Atribuição;\n",
    "* Relacionais;\n",
    "* Lógicos;\n",
    "* Pertencimento;\n",
    "* Identidade;\n",
    "* Binários.\n",
    "\n",
    "Exemplos do site [Try to Program](http://www.trytoprogram.com/python-programming/python-operators/).\n",
    "\n",
    "### Operadores Aritméticos\n",
    "\n",
    "São utilizados para operações matemáticas.\n",
    "\n",
    "| Operador | Nome | Comentário |\n",
    "|---|---|---|\n",
    "| + | Adição | |\n",
    "| - | Subtração | |\n",
    "| * | Multiplicação | |\n",
    "| / | Divisão | Sempre retornar um valor `float`|\n",
    "| % | Módulo | Retorna o resto da divisão |\n",
    "| // | Divisão Inteira | Retorna apenas o valor `int` de uma divisão |\n",
    "| ** | Expoente | 2**3 é o mesmo que 2 elevado a 3 |"
   ]
  },
  {
   "cell_type": "code",
   "execution_count": 1,
   "metadata": {},
   "outputs": [],
   "source": [
    "x = 5\n",
    "y = 2"
   ]
  },
  {
   "cell_type": "code",
   "execution_count": 2,
   "metadata": {},
   "outputs": [
    {
     "data": {
      "text/plain": [
       "7"
      ]
     },
     "execution_count": 2,
     "metadata": {},
     "output_type": "execute_result"
    }
   ],
   "source": [
    "x + y"
   ]
  },
  {
   "cell_type": "code",
   "execution_count": 3,
   "metadata": {},
   "outputs": [
    {
     "data": {
      "text/plain": [
       "3"
      ]
     },
     "execution_count": 3,
     "metadata": {},
     "output_type": "execute_result"
    }
   ],
   "source": [
    "x - y"
   ]
  },
  {
   "cell_type": "code",
   "execution_count": 4,
   "metadata": {},
   "outputs": [
    {
     "data": {
      "text/plain": [
       "10"
      ]
     },
     "execution_count": 4,
     "metadata": {},
     "output_type": "execute_result"
    }
   ],
   "source": [
    "x * y"
   ]
  },
  {
   "cell_type": "code",
   "execution_count": 5,
   "metadata": {},
   "outputs": [
    {
     "data": {
      "text/plain": [
       "2.5"
      ]
     },
     "execution_count": 5,
     "metadata": {},
     "output_type": "execute_result"
    }
   ],
   "source": [
    "x / y"
   ]
  },
  {
   "cell_type": "code",
   "execution_count": 6,
   "metadata": {},
   "outputs": [
    {
     "data": {
      "text/plain": [
       "1"
      ]
     },
     "execution_count": 6,
     "metadata": {},
     "output_type": "execute_result"
    }
   ],
   "source": [
    "x % y"
   ]
  },
  {
   "cell_type": "code",
   "execution_count": 7,
   "metadata": {},
   "outputs": [
    {
     "data": {
      "text/plain": [
       "2"
      ]
     },
     "execution_count": 7,
     "metadata": {},
     "output_type": "execute_result"
    }
   ],
   "source": [
    "x // y"
   ]
  },
  {
   "cell_type": "code",
   "execution_count": 8,
   "metadata": {},
   "outputs": [
    {
     "data": {
      "text/plain": [
       "25"
      ]
     },
     "execution_count": 8,
     "metadata": {},
     "output_type": "execute_result"
    }
   ],
   "source": [
    "x ** y"
   ]
  },
  {
   "attachments": {},
   "cell_type": "markdown",
   "metadata": {},
   "source": [
    "### Operadores de Atribuição\n",
    "\n",
    "São utilizados para atribuir um valor a uma variável.\n",
    "\n",
    "| Operador | Exemplo | Significado |\n",
    "|---|---|---|\n",
    "| = | x = 1 | Atribui o valor 1 a x |\n",
    "| += | x += 1 | x = x + 1 |\n",
    "| -= | x -= 1 | x = x - 1 |\n",
    "| /= | x /= 1 | x = x / 1 |\n",
    "| %= | x %= 1 | x = x % 1 |\n",
    "| *= | x *= 1 | x = x * 1 |\n",
    "| **= | x **= 1 | x = x ** 1|\n",
    "| //= | x //= 1 | x = x // 1 |"
   ]
  },
  {
   "cell_type": "code",
   "execution_count": 13,
   "metadata": {},
   "outputs": [],
   "source": [
    "x = 9"
   ]
  },
  {
   "cell_type": "code",
   "execution_count": 14,
   "metadata": {},
   "outputs": [
    {
     "data": {
      "text/plain": [
       "11"
      ]
     },
     "execution_count": 14,
     "metadata": {},
     "output_type": "execute_result"
    }
   ],
   "source": [
    "x += 2\n",
    "x"
   ]
  },
  {
   "cell_type": "code",
   "execution_count": 15,
   "metadata": {},
   "outputs": [
    {
     "data": {
      "text/plain": [
       "9"
      ]
     },
     "execution_count": 15,
     "metadata": {},
     "output_type": "execute_result"
    }
   ],
   "source": [
    "x -= 2\n",
    "x"
   ]
  },
  {
   "cell_type": "code",
   "execution_count": 16,
   "metadata": {},
   "outputs": [
    {
     "data": {
      "text/plain": [
       "4.5"
      ]
     },
     "execution_count": 16,
     "metadata": {},
     "output_type": "execute_result"
    }
   ],
   "source": [
    "x /= 2\n",
    "x"
   ]
  },
  {
   "cell_type": "code",
   "execution_count": 17,
   "metadata": {},
   "outputs": [
    {
     "data": {
      "text/plain": [
       "0.5"
      ]
     },
     "execution_count": 17,
     "metadata": {},
     "output_type": "execute_result"
    }
   ],
   "source": [
    "x %= 2\n",
    "x"
   ]
  },
  {
   "cell_type": "code",
   "execution_count": 18,
   "metadata": {},
   "outputs": [
    {
     "data": {
      "text/plain": [
       "1.0"
      ]
     },
     "execution_count": 18,
     "metadata": {},
     "output_type": "execute_result"
    }
   ],
   "source": [
    "x *= 2\n",
    "x"
   ]
  },
  {
   "cell_type": "code",
   "execution_count": 19,
   "metadata": {},
   "outputs": [
    {
     "data": {
      "text/plain": [
       "1.0"
      ]
     },
     "execution_count": 19,
     "metadata": {},
     "output_type": "execute_result"
    }
   ],
   "source": [
    "x **= 2\n",
    "x"
   ]
  },
  {
   "cell_type": "code",
   "execution_count": 20,
   "metadata": {},
   "outputs": [
    {
     "data": {
      "text/plain": [
       "0.0"
      ]
     },
     "execution_count": 20,
     "metadata": {},
     "output_type": "execute_result"
    }
   ],
   "source": [
    "x //= 2\n",
    "x"
   ]
  },
  {
   "attachments": {},
   "cell_type": "markdown",
   "metadata": {},
   "source": [
    "### Operadores Relacionais\n",
    "\n",
    "Verificam a comparação entre dois operandos e retornam `verdadeiro` (`True`) ou `falso` (`False`).\n",
    "\n",
    "| Operador | Nome |\n",
    "|---|---\n",
    "| > | Maior que |\n",
    "| < | Menor que |\n",
    "| == | Igual a |\n",
    "| != | Diferente de |\n",
    "| >= | Maior ou igual que |\n",
    "| <= | Menor ou igual que |"
   ]
  },
  {
   "cell_type": "code",
   "execution_count": 21,
   "metadata": {},
   "outputs": [],
   "source": [
    "x = 4\n",
    "y = 6"
   ]
  },
  {
   "cell_type": "code",
   "execution_count": 22,
   "metadata": {},
   "outputs": [
    {
     "data": {
      "text/plain": [
       "False"
      ]
     },
     "execution_count": 22,
     "metadata": {},
     "output_type": "execute_result"
    }
   ],
   "source": [
    "x > y"
   ]
  },
  {
   "cell_type": "code",
   "execution_count": 23,
   "metadata": {},
   "outputs": [
    {
     "data": {
      "text/plain": [
       "True"
      ]
     },
     "execution_count": 23,
     "metadata": {},
     "output_type": "execute_result"
    }
   ],
   "source": [
    "x < y"
   ]
  },
  {
   "cell_type": "code",
   "execution_count": 24,
   "metadata": {},
   "outputs": [
    {
     "data": {
      "text/plain": [
       "False"
      ]
     },
     "execution_count": 24,
     "metadata": {},
     "output_type": "execute_result"
    }
   ],
   "source": [
    "x == y"
   ]
  },
  {
   "cell_type": "code",
   "execution_count": 25,
   "metadata": {},
   "outputs": [
    {
     "data": {
      "text/plain": [
       "True"
      ]
     },
     "execution_count": 25,
     "metadata": {},
     "output_type": "execute_result"
    }
   ],
   "source": [
    "x != y"
   ]
  },
  {
   "cell_type": "code",
   "execution_count": 27,
   "metadata": {},
   "outputs": [
    {
     "data": {
      "text/plain": [
       "False"
      ]
     },
     "execution_count": 27,
     "metadata": {},
     "output_type": "execute_result"
    }
   ],
   "source": [
    "x >= y"
   ]
  },
  {
   "cell_type": "code",
   "execution_count": 28,
   "metadata": {},
   "outputs": [
    {
     "data": {
      "text/plain": [
       "True"
      ]
     },
     "execution_count": 28,
     "metadata": {},
     "output_type": "execute_result"
    }
   ],
   "source": [
    "x <= y"
   ]
  },
  {
   "attachments": {},
   "cell_type": "markdown",
   "metadata": {},
   "source": [
    "### Operadores Lógicos\n",
    "\n",
    "Realizam a operação lógica entre dois operandos.\n",
    "\n",
    "| Operador | Significado |\n",
    "|---|---|\n",
    "| and | (x and y) é verdadeiro somente se x e y forem verdadeiros |\n",
    "| or | (x or y) retorna `True` se qualquer dos operandos for vedadeiro |\n",
    "| not | (not x) reverte ou complementa o operando |"
   ]
  },
  {
   "cell_type": "code",
   "execution_count": 29,
   "metadata": {},
   "outputs": [],
   "source": [
    "x = 1\n",
    "y = 2"
   ]
  },
  {
   "cell_type": "code",
   "execution_count": 30,
   "metadata": {},
   "outputs": [
    {
     "data": {
      "text/plain": [
       "False"
      ]
     },
     "execution_count": 30,
     "metadata": {},
     "output_type": "execute_result"
    }
   ],
   "source": [
    "(x > 2 and y > 1)"
   ]
  },
  {
   "cell_type": "code",
   "execution_count": 31,
   "metadata": {},
   "outputs": [
    {
     "data": {
      "text/plain": [
       "True"
      ]
     },
     "execution_count": 31,
     "metadata": {},
     "output_type": "execute_result"
    }
   ],
   "source": [
    "(x < 2 or y < 1)"
   ]
  },
  {
   "cell_type": "code",
   "execution_count": 32,
   "metadata": {},
   "outputs": [
    {
     "data": {
      "text/plain": [
       "False"
      ]
     },
     "execution_count": 32,
     "metadata": {},
     "output_type": "execute_result"
    }
   ],
   "source": [
    "not(x < 2)"
   ]
  },
  {
   "attachments": {},
   "cell_type": "markdown",
   "metadata": {},
   "source": [
    "### Operadores de Pertencimento\n",
    "\n",
    "Verificam o pertencimento (ou não) de uma variável ou valor a um agrupamento.\n",
    "\n",
    "| Operador | Exemplo | Descrição |\n",
    "|---|---|---|\n",
    "| in | x in y | `True` se x é membro de y |\n",
    "| not in | x not in y | `True` se x não é membro de y |"
   ]
  },
  {
   "cell_type": "code",
   "execution_count": 33,
   "metadata": {},
   "outputs": [],
   "source": [
    "x = 'YOLO'\n",
    "y = 'O'"
   ]
  },
  {
   "cell_type": "code",
   "execution_count": 34,
   "metadata": {},
   "outputs": [
    {
     "data": {
      "text/plain": [
       "True"
      ]
     },
     "execution_count": 34,
     "metadata": {},
     "output_type": "execute_result"
    }
   ],
   "source": [
    "y in x"
   ]
  },
  {
   "cell_type": "code",
   "execution_count": 35,
   "metadata": {},
   "outputs": [
    {
     "data": {
      "text/plain": [
       "False"
      ]
     },
     "execution_count": 35,
     "metadata": {},
     "output_type": "execute_result"
    }
   ],
   "source": [
    "y not in x"
   ]
  },
  {
   "attachments": {},
   "cell_type": "markdown",
   "metadata": {},
   "source": [
    "### Operadores de Identidade\n",
    "\n",
    "São utilizados para verificar se dois operandos têm o mesmo endereço de memória.\n",
    "\n",
    "| Operador | Exemplo | Descrição |\n",
    "|---|---|---\n",
    "| is | x is y | `True` se ambas as variáveis apontam para o mesmo endereço de memória |\n",
    "| is not | x is not y | `True` se ambas as variáveis estão em endereços diferentes na memória|"
   ]
  },
  {
   "cell_type": "code",
   "execution_count": 36,
   "metadata": {},
   "outputs": [],
   "source": [
    "x = 2\n",
    "y = 2\n",
    "z = 3"
   ]
  },
  {
   "cell_type": "code",
   "execution_count": 37,
   "metadata": {},
   "outputs": [
    {
     "data": {
      "text/plain": [
       "True"
      ]
     },
     "execution_count": 37,
     "metadata": {},
     "output_type": "execute_result"
    }
   ],
   "source": [
    "x is y"
   ]
  },
  {
   "cell_type": "code",
   "execution_count": 38,
   "metadata": {},
   "outputs": [
    {
     "data": {
      "text/plain": [
       "False"
      ]
     },
     "execution_count": 38,
     "metadata": {},
     "output_type": "execute_result"
    }
   ],
   "source": [
    "y is z"
   ]
  },
  {
   "cell_type": "code",
   "execution_count": 39,
   "metadata": {},
   "outputs": [
    {
     "data": {
      "text/plain": [
       "False"
      ]
     },
     "execution_count": 39,
     "metadata": {},
     "output_type": "execute_result"
    }
   ],
   "source": [
    "x is not y"
   ]
  },
  {
   "cell_type": "code",
   "execution_count": 40,
   "metadata": {},
   "outputs": [
    {
     "data": {
      "text/plain": [
       "True"
      ]
     },
     "execution_count": 40,
     "metadata": {},
     "output_type": "execute_result"
    }
   ],
   "source": [
    "y is not z"
   ]
  },
  {
   "cell_type": "code",
   "execution_count": 41,
   "metadata": {},
   "outputs": [
    {
     "name": "stdout",
     "output_type": "stream",
     "text": [
      "0x7f252b838110\n",
      "0x7f252b838110\n",
      "0x7f252b838130\n"
     ]
    }
   ],
   "source": [
    "print(hex(id(x)))\n",
    "print(hex(id(y)))\n",
    "print(hex(id(z)))"
   ]
  },
  {
   "attachments": {},
   "cell_type": "markdown",
   "metadata": {},
   "source": [
    "### Operadores Binários\n",
    "\n",
    "São operadores lógicos, porém atuam bit por bit. O bit 1 significa `True` enquanto o bit 0 significa `False`. Por exemplo, vamos assumir que\n",
    "\n",
    "```\n",
    "a = 5 = 0101\n",
    "b = 7 = 0111\n",
    "```\n",
    "\n",
    "Se utilizarmos o operador binário para `AND` (`&`) teremos o seguinte resultado:\n",
    "\n",
    "```\n",
    "a & b = 0101 & 0111 = 0101\n",
    "```\n",
    "\n",
    "| Operador | Exemplo | Operação |\n",
    "|---|---|---|\n",
    "| & (AND) | a & b | 0101 & 0111 = 0101 |\n",
    "| \\| (OR) | a \\| b | 0101 \\| 0111 = 0111 |\n",
    "| ^ (XOR) | a ^ b | 0101 ^ 0111 = 0010 |\n",
    "| ~ (NOT) | ~ a | ~ 5 = -6 (11111010) |\n",
    "| >> (Right Shift) | a >> 1 | 0101 >> 1 = 0010 |\n",
    "| << (Left Shift) | b << 1 | 0111 << 1 = 1110 |"
   ]
  }
 ],
 "metadata": {
  "kernelspec": {
   "display_name": "Python 3",
   "language": "python",
   "name": "python3"
  },
  "language_info": {
   "codemirror_mode": {
    "name": "ipython",
    "version": 3
   },
   "file_extension": ".py",
   "mimetype": "text/x-python",
   "name": "python",
   "nbconvert_exporter": "python",
   "pygments_lexer": "ipython3",
   "version": "3.10.6 (main, Nov 14 2022, 16:10:14) [GCC 11.3.0]"
  },
  "orig_nbformat": 4,
  "vscode": {
   "interpreter": {
    "hash": "916dbcbb3f70747c44a77c7bcd40155683ae19c65e1c03b4aa3499c5328201f1"
   }
  }
 },
 "nbformat": 4,
 "nbformat_minor": 2
}
